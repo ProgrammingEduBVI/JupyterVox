{
  "nbformat": 4,
  "nbformat_minor": 0,
  "metadata": {
    "colab": {
      "provenance": [],
      "toc_visible": true
    },
    "kernelspec": {
      "name": "python3",
      "display_name": "Python 3"
    },
    "language_info": {
      "name": "python"
    }
  },
  "cells": [
    {
      "cell_type": "markdown",
      "source": [
        "# General Purpose\n",
        "This assessment aims to evaluate students' recall of Python concepts.\n",
        "Students should have the freedom to create their own code expressions:\n",
        "\n",
        "Practice activities related to the following topics:\n",
        "\n",
        "1.   Writing a simple code expression\n",
        "2.   Identifiers and Variable naming\n",
        "3.   Math Operations\n",
        "4.   Conditional Statements\n",
        "5.   List\n",
        "6.   Loops\n",
        "7.   Functions\n",
        "8.   Libraries\n",
        "9.   Projects\n",
        "\n",
        "\n",
        "\n"
      ],
      "metadata": {
        "id": "gUN5E3oN8oTU"
      }
    },
    {
      "cell_type": "markdown",
      "source": [],
      "metadata": {
        "id": "E0bMJTj2KzGq"
      }
    },
    {
      "cell_type": "markdown",
      "source": [
        "# Review One (Writing a simple code expression)\n",
        "Review Objective:\n",
        "This task aims to assess students' ability to remember and write simple code expressions, such as \"Hello World.\" The goal is to ensure that they can correctly recall how to write code within a code cell and execute it accurately.\n",
        "\n",
        "\n",
        "\n",
        "\n",
        "\n",
        "\n",
        "\n"
      ],
      "metadata": {
        "id": "Cp23ahFa8oVs"
      }
    },
    {
      "cell_type": "markdown",
      "source": [
        "## Exercises\n",
        "a. Ask students to do the following:\n"
      ],
      "metadata": {
        "id": "S_2prW2ZK_yL"
      }
    },
    {
      "cell_type": "code",
      "source": [
        "print (\"Hello World\")"
      ],
      "metadata": {
        "id": "DhgDpgGzB9K-"
      },
      "execution_count": null,
      "outputs": []
    },
    {
      "cell_type": "code",
      "source": [
        "print (\"I am happy to be back to learning Python\")"
      ],
      "metadata": {
        "id": "X5Crr6bTCMq-"
      },
      "execution_count": null,
      "outputs": []
    },
    {
      "cell_type": "code",
      "source": [
        "print(\"I understand how this works\")"
      ],
      "metadata": {
        "id": "wfRnX7RvDKfO"
      },
      "execution_count": null,
      "outputs": []
    },
    {
      "cell_type": "markdown",
      "source": [
        "#Review Two: Identifiers and Variable Naming\n",
        "\n",
        "Review Objective:\n",
        "This task aims to evaluate students' comprehension of identifiers and the process of naming variables (valid or invalid). Additionally, students should demonstrate the ability to create variables and assign values to them.\n",
        "\n",
        "\n",
        "\n",
        "\n",
        "\n",
        "\n",
        "\n",
        "\n",
        "\n"
      ],
      "metadata": {
        "id": "Aydp9BeIDUJe"
      }
    },
    {
      "cell_type": "markdown",
      "source": [
        "##Execises\n",
        "\n",
        "a. Read out or have students type these variable names to determine whether they are valid or invalid.\n",
        "```\n",
        "\n",
        "\n",
        "Identifier      Status\n",
        "_Texas1         invalid\n",
        "x1              Valid\n",
        "firstName       Valid\n",
        "last_name       Valid\n",
        "ZipCode1        Valid\n",
        "1stZipCode      Invalid  (Cannot start with a digit)\n",
        "name+           Invalid (Contains a character '+')\n",
        "email@work      Invalid (Contains invalid characters '@' and/or ';')\n",
        "```"
      ],
      "metadata": {
        "id": "GElhZ1VfLPfM"
      }
    },
    {
      "cell_type": "markdown",
      "source": [
        "##b. Students should create variables"
      ],
      "metadata": {
        "id": "0fxYVDVeKsKy"
      }
    },
    {
      "cell_type": "code",
      "source": [
        "#Declare a variable named 'a' with the value 12 and print the value of the variable. This basically helps them review the variable types.\n",
        "a = 7\n",
        "print (a)\n"
      ],
      "metadata": {
        "id": "_kIqaWDOIZ3M"
      },
      "execution_count": null,
      "outputs": []
    },
    {
      "cell_type": "code",
      "source": [
        "b = 19.3\n",
        "print(b)"
      ],
      "metadata": {
        "id": "KKqs5h4dKAlP"
      },
      "execution_count": null,
      "outputs": []
    },
    {
      "cell_type": "code",
      "source": [
        "school = \"i am a string variable\"\n",
        "print(school)"
      ],
      "metadata": {
        "id": "--Y9dtJEKGtP"
      },
      "execution_count": null,
      "outputs": []
    },
    {
      "cell_type": "code",
      "source": [
        "x = False\n",
        "print(x)"
      ],
      "metadata": {
        "id": "ijXiCXwXKWDR"
      },
      "execution_count": null,
      "outputs": []
    },
    {
      "cell_type": "code",
      "source": [
        "x = 12\n",
        "y = 13.3\n",
        "z = x + y\n",
        "print(z)"
      ],
      "metadata": {
        "id": "IBah6eGzL6qG"
      },
      "execution_count": null,
      "outputs": []
    },
    {
      "cell_type": "markdown",
      "source": [
        "#Review Three: Math Operations\n",
        "Objective:\n",
        "The aim of this review is to assess students' grasp of math operations involving variables. Students should demonstrate their ability to perform addition and subtraction using variables, and to apply basic arithmetic operators such as '+' and '-' accurately.\n",
        "\n",
        "\n",
        "\n",
        "\n",
        "\n",
        "\n",
        "\n",
        "\n"
      ],
      "metadata": {
        "id": "c6-SMyxjNZDt"
      }
    },
    {
      "cell_type": "markdown",
      "source": [
        "##Execises\n",
        "\n",
        "a. Type these in a code cell and read the answers"
      ],
      "metadata": {
        "id": "1j0XWrx4NiGU"
      }
    },
    {
      "cell_type": "code",
      "source": [
        "1-1"
      ],
      "metadata": {
        "id": "r2oqALhEX_Uq"
      },
      "execution_count": null,
      "outputs": []
    },
    {
      "cell_type": "code",
      "source": [
        "10/4"
      ],
      "metadata": {
        "id": "RK5-iorgXJVV"
      },
      "execution_count": null,
      "outputs": []
    },
    {
      "cell_type": "code",
      "source": [
        "2**11"
      ],
      "metadata": {
        "id": "drzf3KifXKd0"
      },
      "execution_count": null,
      "outputs": []
    },
    {
      "cell_type": "code",
      "source": [
        "(3+5.4)*3"
      ],
      "metadata": {
        "id": "0IID9tSRXPHE"
      },
      "execution_count": null,
      "outputs": []
    },
    {
      "cell_type": "code",
      "source": [
        "(5.1- 2.0)/( 2 * 1.0)"
      ],
      "metadata": {
        "id": "8JJkByY_XUx1",
        "colab": {
          "base_uri": "https://localhost:8080/"
        },
        "outputId": "698beeed-9e44-45bb-a882-cd470d03ccbd"
      },
      "execution_count": null,
      "outputs": [
        {
          "output_type": "execute_result",
          "data": {
            "text/plain": [
              "1.5499999999999998"
            ]
          },
          "metadata": {},
          "execution_count": 1
        }
      ]
    },
    {
      "cell_type": "code",
      "source": [
        "a = 10\n",
        "b = 12\n",
        "a+b"
      ],
      "metadata": {
        "id": "HNYpfmK0XwD_"
      },
      "execution_count": null,
      "outputs": []
    },
    {
      "cell_type": "markdown",
      "source": [
        "#Review Four: Conditional Statements\n",
        "Objective:\n",
        "This review is to evaluate and assess students' comprehension of conditional statements. ."
      ],
      "metadata": {
        "id": "O8vxaS-ebxF6"
      }
    },
    {
      "cell_type": "markdown",
      "source": [
        "##Exercises\n",
        "Students should be provided with clear instructions in plain English and then observed to see how accurately they can write the corresponding code based on those instructions."
      ],
      "metadata": {
        "id": "NvHrKkyPb5i5"
      }
    },
    {
      "cell_type": "code",
      "source": [
        "#Create a variable name \"age\" that contain a value and write an if statement to check the if the value stored is less or greater than 18.\n",
        "age = 12\n",
        "if age < 18:\n",
        "    print(\"You are not an adult.\")\n"
      ],
      "metadata": {
        "id": "eJHWgN1-cHR5"
      },
      "execution_count": null,
      "outputs": []
    },
    {
      "cell_type": "markdown",
      "source": [
        "Create a variable named \"grade\" and store a value. Use an if statement to determine whether value stored is equal to the value checked \"F\". Also, write a decision to be made should the condition is satisfied."
      ],
      "metadata": {
        "id": "OoemSDz7xxmG"
      }
    },
    {
      "cell_type": "code",
      "source": [
        "\n",
        "grade = 'F'\n",
        "if grade == 'F':\n",
        "    print(\"Sorry, poor grade!\")\n"
      ],
      "metadata": {
        "id": "DvnpSgZ7dh75"
      },
      "execution_count": null,
      "outputs": []
    },
    {
      "cell_type": "markdown",
      "source": [
        "Create a variable \"time\" with value 15. Write an if statement to display \"It's afternoon.\" when time id greater than 12 else it should display \"It's afternoon.\""
      ],
      "metadata": {
        "id": "UiHVAaDsxuf-"
      }
    },
    {
      "cell_type": "code",
      "source": [
        "\n",
        "time = 15\n",
        "if time >= 12 :\n",
        "    print(\"It's afternoon.\")\n",
        "else:\n",
        "    print(\"It's morning.\")\n"
      ],
      "metadata": {
        "id": "IrNdLRQgf9xH"
      },
      "execution_count": null,
      "outputs": []
    },
    {
      "cell_type": "markdown",
      "source": [
        "Basic Authentication Mechanism\n",
        "Create two variables names that  request user inputs for username and password. Write a condition to check if the username and password supplied\n",
        "by the user print matches \"admin_user\" and \"mypassword123$\". if matched, print \"Access Successful\", if not, print \"Acess Denied\""
      ],
      "metadata": {
        "id": "T_aV0fP4xmy0"
      }
    },
    {
      "cell_type": "code",
      "source": [
        "\n",
        "\n",
        "\n",
        "username =  input(\"Please enter your username: \")\n",
        "password =  input(\"Please enter your password: \")\n",
        "if username == \"admin_user\" and password == \"mypassword123$\":\n",
        "  print(\"Access Successful.\")\n",
        "else:\n",
        "  print(\"Access Denied\")"
      ],
      "metadata": {
        "id": "lBAslR143DgU",
        "colab": {
          "base_uri": "https://localhost:8080/"
        },
        "outputId": "c1f98352-9838-45ce-eb7b-a0f60e34d722"
      },
      "execution_count": null,
      "outputs": [
        {
          "output_type": "stream",
          "name": "stdout",
          "text": [
            "Please enter your username: h\n",
            "Please enter your password: d\n",
            "Access Denied\n"
          ]
        }
      ]
    },
    {
      "cell_type": "markdown",
      "source": [
        "# Review Five: Lists\n",
        "Objective:\n",
        "This review is to evaluate students' recall of working with lists. Students should understanding  in creating and manipulating lists, performing basic operations such as adding and removing elements, and understanding the concept of indexing.\n",
        "\n",
        "\n",
        "\n",
        "\n",
        "\n",
        "\n",
        "\n",
        "\n"
      ],
      "metadata": {
        "id": "aBwKN8qygxti"
      }
    },
    {
      "cell_type": "markdown",
      "source": [
        "##Exercises\n"
      ],
      "metadata": {
        "id": "f0aSrOKdhz1j"
      }
    },
    {
      "cell_type": "code",
      "source": [
        "#create & print an empty list to store the cars:\n",
        "\n",
        "cars = []\n",
        "print(cars)"
      ],
      "metadata": {
        "id": "h2zpbBfHhzYD"
      },
      "execution_count": null,
      "outputs": []
    },
    {
      "cell_type": "code",
      "source": [
        "#Create & print a list containing integer numbers 1-7\n",
        "numbers = [1,2,3,4,5,6,7]\n",
        "print (numbers)"
      ],
      "metadata": {
        "id": "4aAxk5NtjOFk"
      },
      "execution_count": null,
      "outputs": []
    },
    {
      "cell_type": "code",
      "source": [
        "#Using list index, access and print the first number on the list\n",
        "print(numbers[0])"
      ],
      "metadata": {
        "id": "_-VAsfTSjuQV"
      },
      "execution_count": null,
      "outputs": []
    },
    {
      "cell_type": "code",
      "source": [
        "#Using list index, access and print the last number on the list\n",
        "print(numbers[-1])"
      ],
      "metadata": {
        "id": "66jNPBvlkF3P"
      },
      "execution_count": null,
      "outputs": []
    },
    {
      "cell_type": "code",
      "source": [
        "#Use the len function to print the length of the list\n",
        "print(len(numbers))"
      ],
      "metadata": {
        "id": "m_u0BpTYkQNf"
      },
      "execution_count": null,
      "outputs": []
    },
    {
      "cell_type": "markdown",
      "source": [
        "#Review Six: Loops\n",
        "Objective:\n",
        "This review is to assess students' recall understanding of loops. Students should showcase their ability to use loops to repeat actions, iterate through lists, and perform tasks multiple times.\n",
        "\n",
        "\n",
        "\n",
        "\n",
        "\n",
        "\n",
        "\n",
        "\n"
      ],
      "metadata": {
        "id": "hbSAknf3lmb5"
      }
    },
    {
      "cell_type": "markdown",
      "source": [
        "##Exercises"
      ],
      "metadata": {
        "id": "eKx7hufNoMDe"
      }
    },
    {
      "cell_type": "code",
      "source": [
        "#Create a list named foods containing various food items. Use a for loop to print each item in the list\n",
        "foods = [\"rice\", \"pizza\", \"egg\", \"potatoes\"]\n",
        "for food in foods:\n",
        "    print(food)"
      ],
      "metadata": {
        "id": "QQOt3PjgnyPj"
      },
      "execution_count": null,
      "outputs": []
    },
    {
      "cell_type": "code",
      "source": [
        "#Create a loop that prints range of numbers 2 and 7 (inclusive). Emphasis should be laid on the inclusivity of 7.\n",
        "for num in range(2, 8):\n",
        "    print(num)\n",
        "#On accomplising this, Tell them to refactor () the code to print only the last number which is 7."
      ],
      "metadata": {
        "id": "EWp4E2JTtprA"
      },
      "execution_count": null,
      "outputs": []
    },
    {
      "cell_type": "markdown",
      "source": [
        "After the completion of the  previous task, instruct them to modify or enhance their code to exclusively output the final number, which is 7.\n",
        "Watch out for these three approaches from them, they could come up with theirs:\n",
        "\n"
      ],
      "metadata": {
        "id": "LJ1bZSk9vDYf"
      }
    },
    {
      "cell_type": "code",
      "source": [
        "#Approach 1 (Using Nested loop)\n",
        "\n",
        "for num in range(2, 8):\n",
        "  if num == 7:\n",
        "    print(num)\n",
        "\n",
        "#Approach 2: (Range specification)\n",
        "\n",
        "for num in range(7, 8):\n",
        "  print(num)\n",
        "\n",
        "#Approach 3: (Print num directly)\n",
        "\n",
        "for num in range(7,8):\n",
        "  print(7)\n",
        "\n"
      ],
      "metadata": {
        "id": "G2fKp44XuMve"
      },
      "execution_count": null,
      "outputs": []
    },
    {
      "cell_type": "markdown",
      "source": [
        "\n",
        "This task is slightly intutive. The goal here is help students construct an interactive loop.\n",
        "First students need to write a code to ask for a user input in (interger), then,\n",
        "write a for loop to iterate over the range of number(O - user_num ) and print \"Python\" at each iteration\n"
      ],
      "metadata": {
        "id": "RxMvWitqwbyK"
      }
    },
    {
      "cell_type": "code",
      "source": [
        "\n",
        "str_num = input(\"Enter a number: \")\n",
        "count = int(str_num)\n",
        "for _ in range(user_num):\n",
        "    print(\"Python!\")\n",
        "\n",
        "# The _ is like a placeholder ad its used as a loop variable. This variable is not an important logic of the loop.\n",
        "# This helps other programmers understand our loop better.\n",
        "\n"
      ],
      "metadata": {
        "id": "Xr1FZyc7ua_j"
      },
      "execution_count": null,
      "outputs": []
    },
    {
      "cell_type": "markdown",
      "source": [
        "\n",
        "Another dimension of the previous task. For this, the loop will run based on the number of string characters\n",
        "contained in their first_name. An example is \"GO\" which contains two string characters. the loop will iterate\n",
        "twice (once for 'G' and once for 'O'),  and it will print the message twice:\n"
      ],
      "metadata": {
        "id": "uRNZqeW6whiS"
      }
    },
    {
      "cell_type": "code",
      "source": [
        "\n",
        "first_name = input(\"Enter your name: \")\n",
        "for _ in first_name:\n",
        "    print(\"My name printed:\" , len(first_name) , \"times\")\n"
      ],
      "metadata": {
        "id": "Ug_OFvFLuimO"
      },
      "execution_count": null,
      "outputs": []
    },
    {
      "cell_type": "markdown",
      "source": [
        "SKIP  FUNCTIONS  (DON'T TREAT THIS)\n",
        "\n",
        "---\n",
        "\n",
        "\n",
        "\n",
        "---\n",
        "\n",
        "\\\n",
        "#Review Seven:  Functions\n",
        "\n",
        "Objective:\n",
        "This review assesses students' understanding of how to write basic functions in Python, This will focus on uncovering the idea of function and its implementation."
      ],
      "metadata": {
        "id": "M5nwDx59u3wd"
      }
    },
    {
      "cell_type": "markdown",
      "source": [
        "##Exercises\n"
      ],
      "metadata": {
        "id": "j57BK537vFz-"
      }
    },
    {
      "cell_type": "markdown",
      "source": [],
      "metadata": {
        "id": "XxazWmBtwoUb"
      }
    },
    {
      "cell_type": "markdown",
      "source": [
        "\n",
        "Students should recall the concept around the calculator. Tell them to write a simple\n",
        "function to add two numbers. This function should be involved three times with different sets\n",
        "of numbers. This will probably not work when done on the same cell. Each call of the function\n",
        "should be done on a new code cell\n",
        "\n",
        "Components of our function:\n",
        "\n",
        "def add : Function name\n",
        "(a, b): function parameter\n",
        "Body of function: Single line function that returns sum of a and b\n",
        "add(3,6) : Our first function call.\n",
        "\n"
      ],
      "metadata": {
        "id": "Q8OvNZZDwu2T"
      }
    },
    {
      "cell_type": "code",
      "source": [
        "\n",
        "# Request that students name the different components in this function.\n",
        "\n",
        "def add(a, b):\n",
        "  return a + b\n",
        "\n",
        "add (3,6)\n",
        "\n",
        "\n"
      ],
      "metadata": {
        "id": "akl6rkDNvSMt"
      },
      "execution_count": null,
      "outputs": []
    },
    {
      "cell_type": "code",
      "source": [
        "#Second call.\n",
        "add (7, 9)"
      ],
      "metadata": {
        "id": "M5IacuMswNLw"
      },
      "execution_count": null,
      "outputs": []
    },
    {
      "cell_type": "markdown",
      "source": [
        "\n",
        "Create a function with name greetings, that takes a parameter name with a body to print a greeting message \"Hi\"\n",
        "concatenated with  (specified parameter) concatenated with Happy Learning!\n",
        "Call this function twice. First, with your firstname and second with your lastname\n"
      ],
      "metadata": {
        "id": "bkJYD9AfxYr8"
      }
    },
    {
      "cell_type": "code",
      "source": [
        "\n",
        "\n",
        "def greetings(name):\n",
        "    print(\"Hi, \" + name + \". Happy learning!\")\n",
        "\n",
        "greetings(\"GO\")\n",
        "greetings(\"GO's Surname\")\n"
      ],
      "metadata": {
        "id": "Fq_PwVXbwaWC"
      },
      "execution_count": null,
      "outputs": []
    },
    {
      "cell_type": "markdown",
      "source": [
        "Call our add function from the previous created function. This time, the parameters should be two decimal numbers:"
      ],
      "metadata": {
        "id": "w_b0glg0yMNH"
      }
    },
    {
      "cell_type": "code",
      "source": [
        "\n",
        "\n",
        "add(90.1, 4.4)"
      ],
      "metadata": {
        "id": "xt6cXYgCw7FN"
      },
      "execution_count": null,
      "outputs": []
    },
    {
      "cell_type": "markdown",
      "source": [
        "Call our add function from the previous created function. This time, the parameters should be two exponential notations:"
      ],
      "metadata": {
        "id": "gKpouhlhyTeN"
      }
    },
    {
      "cell_type": "code",
      "source": [
        "\n",
        "jl\n",
        "add(25e3, 4e-1)"
      ],
      "metadata": {
        "id": "GPOBAFjJxA1z"
      },
      "execution_count": null,
      "outputs": []
    },
    {
      "cell_type": "markdown",
      "source": [
        "#Review Eight:  Libraries\n",
        "\n",
        "Objective:\n",
        "This refreshes students understanding of the use of libraries and how easy it\n",
        "could make our code. libraries are prewritten functions. Some of the libraries in Python are PyTorch, Numpy, Math, Matplotlib\n"
      ],
      "metadata": {
        "id": "VtTfNckVxo_r"
      }
    },
    {
      "cell_type": "markdown",
      "source": [
        "##Exercises"
      ],
      "metadata": {
        "id": "n14LWuJcyeVy"
      }
    },
    {
      "cell_type": "markdown",
      "source": [
        "import the numpy library and use it for finding the mean of five distinct numbers list contained in a variable name numbers."
      ],
      "metadata": {
        "id": "p7nsiDLkxU-c"
      }
    },
    {
      "cell_type": "code",
      "source": [
        "\n",
        "\n",
        "import numpy\n",
        "numbers = [1,2,3,4]\n",
        "\n",
        "print(numpy.mean(numbers))"
      ],
      "metadata": {
        "id": "et1xSxS9yah7"
      },
      "execution_count": null,
      "outputs": []
    },
    {
      "cell_type": "code",
      "source": [
        "#import the math library and use it for finding the power of two int numbers.\n",
        "\n",
        "import math\n",
        "\n",
        "print(math.pow(3, 4))"
      ],
      "metadata": {
        "id": "yV-GuxUVzNFZ"
      },
      "execution_count": null,
      "outputs": []
    },
    {
      "cell_type": "markdown",
      "source": [
        "\n",
        "import the random library and use it to generate random numbers three times. This particular code should be executed three times\n",
        "in other to output three numbers between 0 and 5. Students should always read each execution output.\n"
      ],
      "metadata": {
        "id": "zj1AfI7CuliX"
      }
    },
    {
      "cell_type": "code",
      "source": [
        "\n",
        "\n",
        "import random\n",
        "\n",
        "print(random.randint(0, 5))\n"
      ],
      "metadata": {
        "id": "LpGW1umozSnw"
      },
      "execution_count": null,
      "outputs": []
    },
    {
      "cell_type": "markdown",
      "source": [
        "Ask students to use libraries (math and numpy) in one block of code to print the natural log of a number and the median of 4 numbers"
      ],
      "metadata": {
        "id": "iQd21PtaspWR"
      }
    },
    {
      "cell_type": "code",
      "source": [
        "\n",
        "\n",
        "import math\n",
        "import numpy\n",
        "\n",
        "list_num = [1,2,3,4]\n",
        "log_num = math.log(10)\n",
        "\n",
        "\n",
        "print(log_num)\n",
        "print(numpy.median(list_num))"
      ],
      "metadata": {
        "id": "eCMp0IoozYSM"
      },
      "execution_count": null,
      "outputs": []
    },
    {
      "cell_type": "markdown",
      "source": [
        "Basic Authentication Mechanism using getpass library to Encrypt our password\n",
        "Create two variables names that  request user inputs for username and password. Write a condition to check if the username and password supplied\n",
        "by the user print matches \"admin_user\" and \"mypassword123$\". if matched, print \"Access Successful\", if not, print \"Acess Denied\"\n"
      ],
      "metadata": {
        "id": "Y2P4XVBBsbdq"
      }
    },
    {
      "cell_type": "code",
      "source": [
        "\n",
        "import getpass\n",
        "\n",
        "username =  input(\"Please enter your username: \")\n",
        "password =  getpass.getpass(\"Please enter your password: \")\n",
        "if username == \"admin_user\" and password == \"mypassword123$\":\n",
        "  print(\"Welcome, Again\")\n",
        "else:\n",
        "  print(\"You are kicked out\")"
      ],
      "metadata": {
        "id": "64n926VJlY5J"
      },
      "execution_count": null,
      "outputs": []
    },
    {
      "cell_type": "markdown",
      "source": [
        "#Review Nine: Project:\n",
        "Two Projects will be completed for this review. These projects encompass the integration of one or more concepts and logical building blocks  taught and reviewed by students throughout this course.\n",
        "\n",
        "\n",
        "1.   Building a simple scientific calculator\n",
        "2.   Temperature conversion mechanism\n",
        "\n",
        "\n"
      ],
      "metadata": {
        "id": "Q6nq08BkzeV6"
      }
    },
    {
      "cell_type": "markdown",
      "source": [
        "##Project One: Simple scientific calculator"
      ],
      "metadata": {
        "id": "X6yXbO8L2OQl"
      }
    },
    {
      "cell_type": "code",
      "source": [
        "#Simple scientific calculator\n",
        "\n",
        "import math\n",
        "\n",
        "\n",
        "def exponent(a,b,x):\n",
        "    return a * (b ** x)\n",
        "\n",
        "def power_function(a, b, x):\n",
        "    return a * (x ** b)\n",
        "\n",
        "#the square root function is implemented in math module\n",
        "def squareRoot(x):\n",
        "    return math.sqrt(x)\n",
        "\n",
        "def division(a, b):\n",
        "    return (a/b)\n",
        "\n",
        "\n",
        "#Examples\n",
        "\n",
        "print(exponent(2,3,4))\n",
        "print(power_function(2,3,4))\n",
        "print(squareRoot(144))\n",
        "print(division(49,7))\n"
      ],
      "metadata": {
        "id": "tjgDayXCzyLV"
      },
      "execution_count": null,
      "outputs": []
    },
    {
      "cell_type": "markdown",
      "source": [
        "##Project Two: Weight Conversion Toolkit: Pounds to Kilograms & Vice Versa\n",
        "'''\n",
        "Relatable Design Context: This project is postured within a context where students are planning international travel\n",
        "to a different continent outside US and need to convert the weight measurements as part of their travel\n",
        "preparations. .\n",
        "\n",
        "Background of what students have to do:\n",
        "Students should be informed that they are to write a program to convert Kilograme to Pound and vice versa.\n",
        "Measurement in Pounds is uded in the US and UK. The conversion factor to be used is 1kg equals 2.20462 pounds\n",
        "making Kg greater than Pound.The goal is for students to know the kg representation of their weights.\n",
        "It's okay for students to use a placeholder  weight if actual weight is unknown. This only serves the purpose of\n",
        "conceptualizing program logic.\n",
        "\n",
        "Hints:\n",
        "Each conversion should be written in a function\n",
        "Code must request from user the lb/kg\n",
        "code must print or return the equivalent of kg/lb\n",
        "'''\n",
        "\n"
      ],
      "metadata": {
        "id": "J0Ukmf_Fctnl"
      }
    },
    {
      "cell_type": "code",
      "source": [
        "\n",
        "\n",
        "def convert_lb_to_kg():\n",
        "    lb = float(input(\"Enter the weight in pounds: \"))\n",
        "    kg = lb / 2.20462\n",
        "    return \"The equivalent weight in kilograms:\", kg\n",
        "\n",
        "\n",
        "def convert_kg_to_lb():\n",
        "    kg = float(input(\"Enter the weight in kilograms: \"))\n",
        "    lb = kg * 2.20462\n",
        "    return \"The equivalent weight in pounds:\", lb\n",
        "\n",
        "\n",
        "# Convert from pounds to kilograms\n",
        "result1 = convert_lb_to_kg()\n",
        "print(result1)\n",
        "\n",
        "# Convert from kilograms to pounds\n",
        "result2 = convert_kg_to_lb()\n",
        "print(result2)\n"
      ],
      "metadata": {
        "colab": {
          "base_uri": "https://localhost:8080/"
        },
        "id": "H0uzO2ZgcznO",
        "outputId": "8d2b9d3d-6817-4077-9b7e-30b67673ee1f"
      },
      "execution_count": null,
      "outputs": [
        {
          "output_type": "stream",
          "name": "stdout",
          "text": [
            "Enter the weight in pounds: 10\n",
            "('The equivalent weight in kilograms:', 4.535929094356398)\n",
            "Enter the weight in kilograms: 4\n",
            "('The equivalent weight in pounds:', 8.81848)\n"
          ]
        }
      ]
    }
  ]
}