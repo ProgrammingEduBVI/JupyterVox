{
  "nbformat": 4,
  "nbformat_minor": 0,
  "metadata": {
    "colab": {
      "provenance": []
    },
    "kernelspec": {
      "name": "python3",
      "display_name": "Python 3"
    },
    "language_info": {
      "name": "python"
    }
  },
  "cells": [
    {
      "cell_type": "markdown",
      "source": [
        "#Welcome Note:\n",
        "\n",
        "Welcome students to this session of the  continuation of Python training\n",
        "Begin by asking them how their holiday went and reminding\n",
        "them of their feedback on desire to learn more topics in Python.\n",
        "Tell we would be covering the fellowing topics:\n",
        "\n",
        "*   Tuple\n",
        "*   Set\n",
        "\n",
        "Setup:\n",
        "\n",
        "As usual, have them setup their PCs, Braille display, and anyother assistive device. Students should communicate any assistance needed or possible constraints for adequate weigh in.\n",
        "\n",
        "\n",
        "\n",
        "\n",
        "\n",
        "\n",
        "\n"
      ],
      "metadata": {
        "id": "12vMeGUuI9A-"
      }
    },
    {
      "cell_type": "markdown",
      "source": [
        "#Task 0: Overview of today’s tasks   \n",
        "\n",
        "1. Recall Exercise\n",
        "2. Tuple\n",
        "3. Set\n",
        "\n",
        "\n"
      ],
      "metadata": {
        "id": "XPH-j3CDMW0K"
      }
    },
    {
      "cell_type": "markdown",
      "source": [
        "#Task One: Recall Exercise - Previous Lectures"
      ],
      "metadata": {
        "id": "bxJzuExuMuW7"
      }
    },
    {
      "cell_type": "markdown",
      "source": [
        "##Retrieval Questions:\n",
        "\n",
        "  a. Take a few minutes to reflect on the\n",
        "     material covered in the course of these training. Including concepts you worked on during the holiday.\n",
        "\n",
        " b. Say concepts, terms, and important points\n",
        "     you remember (Any way that feels natural to\n",
        "     you.)\n",
        "\n",
        "c. Point out places you seek more  clarification.\n",
        "\n",
        "d. Propose the most effective teaching methods for optimizing the learning process (optional).\n",
        "\n",
        "\n",
        "\n",
        "\n",
        "\n",
        "\n",
        "\n",
        "\n",
        "\n",
        "\n",
        "\n",
        "\n",
        "\n",
        "\n",
        "\n",
        "\n",
        "\n",
        "\n"
      ],
      "metadata": {
        "id": "oO8W7LnDM95z"
      }
    },
    {
      "cell_type": "markdown",
      "source": [
        "## Collation of Ideas:\n",
        "\n",
        "\n",
        "> Instructors should collect these information for further review and to serve as design guides.\n",
        "\n",
        "\n",
        "\n",
        "\n"
      ],
      "metadata": {
        "id": "kIGAkMCLPpT1"
      }
    },
    {
      "cell_type": "markdown",
      "source": [
        "#Task Two: Tuple (Student should defined their learning goals)"
      ],
      "metadata": {
        "id": "0aGlkxlSQHI2"
      }
    },
    {
      "cell_type": "markdown",
      "source": [
        "##Tuple Explained\n",
        "Tuple is a data structure which acts and behaves like a List. They share similarities. There are two very important differences between both:\n",
        "\n",
        "1.   Enclosed in parentheses () Vs list - enclosed in []\n",
        "2.   Contents cannot be changed when created. The term used is immutable; Vs list which are.\n",
        "\n",
        "Use Cases:\n",
        "In simple terms..\n",
        "Why do we need it???\n",
        "Specify\n",
        "\n",
        "\n",
        "\n"
      ],
      "metadata": {
        "id": "3JO1VQNzYYXr"
      }
    },
    {
      "cell_type": "markdown",
      "source": [
        "## Example Tuple\n",
        "\n",
        "Ex1. This code creates a tuple that contains the coordinates of a line with Point A and Point B.\n"
      ],
      "metadata": {
        "id": "sB6TgQ0TaBxQ"
      }
    },
    {
      "cell_type": "code",
      "execution_count": null,
      "metadata": {
        "colab": {
          "base_uri": "https://localhost:8080/"
        },
        "id": "yothbniMGp2d",
        "outputId": "53e2541f-5159-414e-bcbd-f72f257cd63b"
      },
      "outputs": [
        {
          "output_type": "stream",
          "name": "stdout",
          "text": [
            "Point A: (7, 2) \n",
            "Point B: (1, 5)\n"
          ]
        }
      ],
      "source": [
        "point_A = (7, 2)\n",
        "point_B = (1, 5)\n",
        "\n",
        "print(\"Point A:\",point_A , \"\\n\" \"Point B:\" , point_B)"
      ]
    },
    {
      "cell_type": "markdown",
      "source": [
        "Ex2. This code creates a tuple that contains the coordinate of a single point."
      ],
      "metadata": {
        "id": "yske2qyrbqFK"
      }
    },
    {
      "cell_type": "code",
      "source": [
        "point_cord = (1, 2)\n",
        "print(point_cord)"
      ],
      "metadata": {
        "id": "CPlKLNnEb6as",
        "colab": {
          "base_uri": "https://localhost:8080/"
        },
        "outputId": "ba96e352-bc97-4c5e-a578-450766a7c0a4"
      },
      "execution_count": null,
      "outputs": [
        {
          "output_type": "stream",
          "name": "stdout",
          "text": [
            "(1, 2)\n"
          ]
        }
      ]
    },
    {
      "cell_type": "markdown",
      "source": [
        "Ex3. A Polygon (triangle) with vertices at Point X (0, 0), Point Y (3, 0), and Point Z (1, 4). This code creates points for the vertices\n",
        "\n",
        "> Indented block\n",
        "\n",
        "\n"
      ],
      "metadata": {
        "id": "o5Eh9Rgucjq0"
      }
    },
    {
      "cell_type": "code",
      "source": [
        "triangle_vertices = ((0, 0), (3, 0), (1, 4))\n",
        "print(triangle_vertices)"
      ],
      "metadata": {
        "colab": {
          "base_uri": "https://localhost:8080/"
        },
        "id": "52pRflz3dHV9",
        "outputId": "3b90c699-55b3-497d-f911-931b8c5848ac"
      },
      "execution_count": null,
      "outputs": [
        {
          "output_type": "stream",
          "name": "stdout",
          "text": [
            "((0, 0), (3, 0), (1, 4))\n"
          ]
        }
      ]
    },
    {
      "cell_type": "markdown",
      "source": [
        "#Task Three: Tuple Manipulation\n",
        "\n",
        "\n",
        "\n",
        "\n"
      ],
      "metadata": {
        "id": "YsIMSMmbcl4D"
      }
    },
    {
      "cell_type": "markdown",
      "source": [
        "##Manipulation details:\n",
        "Now that we have created some Tuples, let's perform some tuple manipulation like:\n",
        "\n",
        "\n",
        "1.   Printing\n",
        "2.   indexing\n",
        "3.   Concatenation\n",
        "4.   Repetition\n"
      ],
      "metadata": {
        "id": "lK9rQuz8qOTk"
      }
    },
    {
      "cell_type": "markdown",
      "source": [
        "Ex4. Items stored in a tuple are accessed by index, just like list."
      ],
      "metadata": {
        "id": "p7g-xqqGhMj5"
      }
    },
    {
      "cell_type": "code",
      "source": [
        "point_cord = (1, 2)\n",
        "print(\"x coordinate:\", point_cord[0])\n",
        "print(\"y coordinate:\", point_cord[1])"
      ],
      "metadata": {
        "colab": {
          "base_uri": "https://localhost:8080/"
        },
        "id": "WlU-gREJiEYS",
        "outputId": "3f233380-2fb0-4eda-da9d-0b14b7c10f2c"
      },
      "execution_count": null,
      "outputs": [
        {
          "output_type": "stream",
          "name": "stdout",
          "text": [
            "x coordinate: 1\n",
            "y coordinate: 2\n"
          ]
        }
      ]
    },
    {
      "cell_type": "markdown",
      "source": [
        "Ex5. Items stored in a tuple are immutable(remain unchanged) after definition."
      ],
      "metadata": {
        "id": "tJoRQc65iZ3z"
      }
    },
    {
      "cell_type": "code",
      "source": [
        "point_cord = (1, 2)\n",
        "point_cord[0] =22"
      ],
      "metadata": {
        "colab": {
          "base_uri": "https://localhost:8080/",
          "height": 200
        },
        "id": "sK1fH2NfiwFr",
        "outputId": "bf5bf663-0ed1-4c7c-8338-d21ff39a9b6b"
      },
      "execution_count": null,
      "outputs": [
        {
          "output_type": "error",
          "ename": "TypeError",
          "evalue": "'tuple' object does not support item assignment",
          "traceback": [
            "\u001b[0;31m---------------------------------------------------------------------------\u001b[0m",
            "\u001b[0;31mTypeError\u001b[0m                                 Traceback (most recent call last)",
            "\u001b[0;32m<ipython-input-3-e7e5147e1a96>\u001b[0m in \u001b[0;36m<cell line: 2>\u001b[0;34m()\u001b[0m\n\u001b[1;32m      1\u001b[0m \u001b[0mpoint_cord\u001b[0m \u001b[0;34m=\u001b[0m \u001b[0;34m(\u001b[0m\u001b[0;36m1\u001b[0m\u001b[0;34m,\u001b[0m \u001b[0;36m2\u001b[0m\u001b[0;34m)\u001b[0m\u001b[0;34m\u001b[0m\u001b[0;34m\u001b[0m\u001b[0m\n\u001b[0;32m----> 2\u001b[0;31m \u001b[0mpoint_cord\u001b[0m\u001b[0;34m[\u001b[0m\u001b[0;36m0\u001b[0m\u001b[0;34m]\u001b[0m \u001b[0;34m=\u001b[0m\u001b[0;36m22\u001b[0m\u001b[0;34m\u001b[0m\u001b[0;34m\u001b[0m\u001b[0m\n\u001b[0m",
            "\u001b[0;31mTypeError\u001b[0m: 'tuple' object does not support item assignment"
          ]
        }
      ]
    },
    {
      "cell_type": "markdown",
      "source": [
        "\n",
        "\n",
        "```\n",
        "Note the response: TypeError: 'tuple' object does not support item assignment\n",
        "```\n",
        "\n"
      ],
      "metadata": {
        "id": "z8lQKv9HrkcO"
      }
    },
    {
      "cell_type": "markdown",
      "source": [
        "EX6. We can Concatenate a tuple.\n"
      ],
      "metadata": {
        "id": "CtzUWutqi4yC"
      }
    },
    {
      "cell_type": "code",
      "source": [
        "new_point = point_cord + (1, 7)\n",
        "print(\"Concatenated Tuple:\", new_point)\n"
      ],
      "metadata": {
        "colab": {
          "base_uri": "https://localhost:8080/"
        },
        "id": "TdG9u8mIlbS1",
        "outputId": "7aed41cc-513d-4b53-93d0-f4ce9c31cbb5"
      },
      "execution_count": null,
      "outputs": [
        {
          "output_type": "stream",
          "name": "stdout",
          "text": [
            "Concatenated Tuple: (1, 2, 1, 7)\n"
          ]
        }
      ]
    },
    {
      "cell_type": "markdown",
      "source": [
        "Ex7. Finiding the repetition of a tuple. Use the piece of code below to find repetition of the new_point"
      ],
      "metadata": {
        "id": "gY9_qsHroes4"
      }
    },
    {
      "cell_type": "code",
      "source": [
        "repeated_point = new_point * 3\n",
        "print(\"repeated Tuple:\", repeated_point)\n"
      ],
      "metadata": {
        "colab": {
          "base_uri": "https://localhost:8080/"
        },
        "id": "_OyZpOrLoqnI",
        "outputId": "84f7d221-0abf-43d8-b6d1-7ffef1238b27"
      },
      "execution_count": null,
      "outputs": [
        {
          "output_type": "stream",
          "name": "stdout",
          "text": [
            "repeated Tuple: (1, 2, 1, 7, 1, 2, 1, 7, 1, 2, 1, 7)\n"
          ]
        }
      ]
    },
    {
      "cell_type": "markdown",
      "source": [
        "Ex8. Finding the length of a tuple. Use the piece of code behinf to find the length of tuple repeated_point\n"
      ],
      "metadata": {
        "id": "MThA1GB_qXXc"
      }
    },
    {
      "cell_type": "code",
      "source": [
        "tuple_length = len(repeated_point)\n",
        "print(\"Tuple Length:\", tuple_length)"
      ],
      "metadata": {
        "colab": {
          "base_uri": "https://localhost:8080/"
        },
        "id": "U-WcHuRlqu6N",
        "outputId": "cfbabb73-688f-49e8-b02a-3e4df6a47419"
      },
      "execution_count": null,
      "outputs": [
        {
          "output_type": "stream",
          "name": "stdout",
          "text": [
            "Tuple Length: 12\n"
          ]
        }
      ]
    },
    {
      "cell_type": "markdown",
      "source": [
        "#Task Four: Set (Student should defined their learning goals)\n",
        "\n",
        "\n",
        "\n",
        "\n"
      ],
      "metadata": {
        "id": "znp0BJ16rOj3"
      }
    },
    {
      "cell_type": "markdown",
      "source": [
        "##Set Explained\n",
        " Set is a data structure which acts and behaves like a List. Just like dictionaries, set are defined using curly braces {}.\n",
        "\n",
        "Properties of a Set:\n",
        "\n",
        "\n",
        "\n",
        "1.   Set allows for addition and removal of elements when created. eg.set1_.add(2) or set1_remove(7)\n",
        "2.   Set does not allow duplicate elements. Meaning an element exist in a set, we cannot add that same element again in that set.\n",
        "\n",
        "\n",
        "\n",
        "\n"
      ],
      "metadata": {
        "id": "cQrp3XA1tJV6"
      }
    },
    {
      "cell_type": "markdown",
      "source": [
        "##Valid Sets\n",
        "\n",
        "Let's look at some example of how to create valid set and invalid set.\n",
        "\n",
        "\n",
        "These are some valid sets. Students should type along.\n",
        "\n",
        "# Using curly braces\n",
        "\n",
        "```\n",
        "set_1 = {0, 2, 4, 6, 8}\n",
        "```\n",
        "# Using the set() constructor\n",
        "```\n",
        "set_2 = set([9, 10, 11, 12, 13])\n",
        "```\n",
        "# Creating an empty set\n",
        "```\n",
        "set_empty= set()\n",
        "```\n",
        "\n",
        "# Sets can contain different data types\n",
        "```\n",
        "mixed_item_set = {2,(1, 3), 'Lau', 5.29}\n",
        "```\n",
        "\n",
        "# When set is created with duplicate elements, duplicates elements removed automatically.\n",
        "\n",
        "```\n",
        "duplicates_sets = {1, 4, 4, 9, 7, 7, 5}\n",
        "```\n",
        "\n",
        "# A set can contant a single element\n",
        "```\n",
        "single_set = {60}\n",
        "```\n",
        "\n",
        "\n"
      ],
      "metadata": {
        "id": "2gJ-7St5mAHt"
      }
    },
    {
      "cell_type": "markdown",
      "source": [
        "##Invalid Sets\n",
        "\n",
        "# Using square brackets (this creates a list, not a set)\n",
        "\n",
        "```\n",
        "invalid_set1 =  [0, 2, 4, 6, 8]\n",
        "```\n",
        "\n",
        "# Using the set() constructor with duplicate elements (the duplicates are automatically removed, but this is not a recommended practice)\n",
        "```\n",
        "set2_inavlid = set([8, 6, 5, 3])\n",
        "```\n",
        "# Empty sets are invalid. This is a dictionary instead.\n",
        "```\n",
        "# invalid_empty_set = {}\n",
        "```\n",
        "\n",
        "\n"
      ],
      "metadata": {
        "id": "Gr8X3sJToqGo"
      }
    },
    {
      "cell_type": "markdown",
      "source": [
        "##Basic Set Operations (20 minutes)\n",
        "Recall set theory in Math. Same operators and logic apply in set. These operations are handy for various application designs like filtering, quering data, comparing logics in Python programming. Some of the basic set operations are:\n",
        "\n",
        "\n",
        "```\n",
        "Discuss common set operations:\n",
        "Union (|)\n",
        "Intersection (&)\n",
        "Difference (-)\n",
        "Symmetric Difference (^)\n",
        "```\n"
      ],
      "metadata": {
        "id": "F0TxbzNRqvZg"
      }
    },
    {
      "cell_type": "markdown",
      "source": [
        "###Union (|)\n",
        "The union of two sets contain the unique elements from both of the sets. (Open code cell and type.\n",
        "\n",
        "\n"
      ],
      "metadata": {
        "id": "UwT2Rzz-r497"
      }
    },
    {
      "cell_type": "code",
      "source": [
        "set1 = {3, 2, 2, 3, 4}\n",
        "set2 = {3, 4, 5, 6, 7}\n",
        "\n",
        "set3_union = set1 | set2\n",
        "print(\"Union:\", set3_union)\n"
      ],
      "metadata": {
        "colab": {
          "base_uri": "https://localhost:8080/"
        },
        "id": "uFo71WxjsWyE",
        "outputId": "4997da5a-613d-44a6-9034-cb674497e7cc"
      },
      "execution_count": null,
      "outputs": [
        {
          "output_type": "stream",
          "name": "stdout",
          "text": [
            "Union: {2, 3, 4, 5, 6, 7}\n"
          ]
        }
      ]
    },
    {
      "cell_type": "markdown",
      "source": [
        "###Intersection (&)\n",
        "\n",
        "This basically gives us what is common across the sets. Eg. An intersection of two sets will contain elements that are found in both sets alone.\n",
        "\n"
      ],
      "metadata": {
        "id": "XyYfr_-KsvIu"
      }
    },
    {
      "cell_type": "code",
      "source": [
        "my_set1 = {2, 3, 4, 5, 6}\n",
        "my_set2 = {4, 5, 6, 7, 8}\n",
        "\n",
        "intersection_set = my_set1 & my_set2\n",
        "print(\"Intersection:\", intersection_set)"
      ],
      "metadata": {
        "colab": {
          "base_uri": "https://localhost:8080/"
        },
        "id": "62ANOLWOt9rE",
        "outputId": "d3608a91-ddca-44c0-cae0-230f053616ce"
      },
      "execution_count": null,
      "outputs": [
        {
          "output_type": "stream",
          "name": "stdout",
          "text": [
            "Intersection: {4, 5, 6}\n"
          ]
        }
      ]
    },
    {
      "cell_type": "markdown",
      "source": [
        "###Difference (-):\n",
        "Basically, the difference of two sets contains elements that are contained in the first set but are missing in the second."
      ],
      "metadata": {
        "id": "GlVU_vC3ul9Q"
      }
    },
    {
      "cell_type": "code",
      "source": [
        "my_diff_set1 = {2, 3, 4, 5, 6}\n",
        "my_diff_set2 = {4, 5, 6, 7, 8}\n",
        "\n",
        "my_diff_set = my_diff_set1 - my_diff_set2\n",
        "print(\"Difference:\", my_diff_set)\n"
      ],
      "metadata": {
        "colab": {
          "base_uri": "https://localhost:8080/"
        },
        "id": "oVgVYMyVu68f",
        "outputId": "7d0f0f86-ed48-4b85-9398-6f88df884aa1"
      },
      "execution_count": null,
      "outputs": [
        {
          "output_type": "stream",
          "name": "stdout",
          "text": [
            "Difference: {2, 3}\n"
          ]
        }
      ]
    },
    {
      "cell_type": "markdown",
      "source": [
        "###Symmetric Difference (^):\n",
        "The symmetric difference of two distinct set contains all elements that are unique to each set.\n",
        "\n"
      ],
      "metadata": {
        "id": "HMZow7HnvXYB"
      }
    },
    {
      "cell_type": "code",
      "source": [
        "sym_set1 = {2, 3, 4, 5, 6}\n",
        "sym_set2 = {4, 5, 6, 7, 8}\n",
        "\n",
        "sym_diff_set = sym_set1 ^ sym_set2\n",
        "print(\"Symmetric Difference:\", sym_diff_set)\n"
      ],
      "metadata": {
        "colab": {
          "base_uri": "https://localhost:8080/"
        },
        "id": "7aX1zlOvvspn",
        "outputId": "ab0115a7-05a6-44cf-a5f1-0fa1f48cd679"
      },
      "execution_count": null,
      "outputs": [
        {
          "output_type": "stream",
          "name": "stdout",
          "text": [
            "Symmetric Difference: {2, 3, 7, 8}\n"
          ]
        }
      ]
    },
    {
      "cell_type": "markdown",
      "source": [
        "## Set Manipulations.\n",
        "\n",
        "Just like in the case of list and tuple, we can perform various manipulations using specific built-in methods:\n"
      ],
      "metadata": {
        "id": "JH6ikrKUyWyE"
      }
    },
    {
      "cell_type": "markdown",
      "source": [
        "###add():\n",
        "This method is used to add an element to the set. More like performing set update.(Students should open code cell and type.)"
      ],
      "metadata": {
        "id": "COmB8K0Wzon3"
      }
    },
    {
      "cell_type": "code",
      "source": [
        "even_set = {2, 6}\n",
        "\n",
        "# Adding an element to the set. Lay emphasis on the (dot)\n",
        "even_set.add(4)\n",
        "\n",
        "print(\"New set:\", even_set)\n"
      ],
      "metadata": {
        "colab": {
          "base_uri": "https://localhost:8080/"
        },
        "id": "O0xVFPIsz7Rr",
        "outputId": "93b8c1c5-7d36-41bb-9031-5b8d6d283694"
      },
      "execution_count": null,
      "outputs": [
        {
          "output_type": "stream",
          "name": "stdout",
          "text": [
            "New set: {2, 4, 6}\n"
          ]
        }
      ]
    },
    {
      "cell_type": "markdown",
      "source": [
        "### remove():\n",
        "This method is used to removing specific element from a  set. Another form of updating the set.\n",
        "\n"
      ],
      "metadata": {
        "id": "eRt55liH0OTu"
      }
    },
    {
      "cell_type": "code",
      "source": [
        "odd_set = {8, 3, 5, 7}\n",
        "\n",
        "\n",
        "# Removing element 5 from the set containing odd numbers\n",
        "odd_set.remove(5)\n",
        "\n",
        "print(\"New odd set:\", odd_set)\n"
      ],
      "metadata": {
        "colab": {
          "base_uri": "https://localhost:8080/"
        },
        "id": "_Lsm-u4U08jB",
        "outputId": "a280eded-32bf-4e6a-fd9a-ca65973ea70e"
      },
      "execution_count": null,
      "outputs": [
        {
          "output_type": "stream",
          "name": "stdout",
          "text": [
            "New odd set: {8, 3, 7}\n"
          ]
        }
      ]
    },
    {
      "cell_type": "code",
      "source": [
        "odd_set.add(2)\n",
        "print(odd_set)"
      ],
      "metadata": {
        "colab": {
          "base_uri": "https://localhost:8080/"
        },
        "id": "MSH7kgHiXewV",
        "outputId": "44529a69-8e70-4d26-d5c9-bb76aba74d2e"
      },
      "execution_count": null,
      "outputs": [
        {
          "output_type": "stream",
          "name": "stdout",
          "text": [
            "{2, 3, 7, 8}\n"
          ]
        }
      ]
    },
    {
      "cell_type": "markdown",
      "source": [
        "###discard():\n",
        "When trying to remove specified element that is not in the set from a set using remove method (as performed above), python complains (throws error). To solve this we use the discard. Basically, this removes a specifed element from the set if it exist and does not raise error if the element does not exist."
      ],
      "metadata": {
        "id": "tDJGM1lx1ZpU"
      }
    },
    {
      "cell_type": "code",
      "source": [
        "test_set = {1, 2, 3, 4}\n",
        "\n",
        "# Let's discard element (3) from the set and see what happens\n",
        "test_set.discard(3)\n",
        "\n",
        "print(\"My new set:\", test_set)\n",
        "\n",
        "# Let's further attempt to discard (5), an element that doesn't exist\n",
        "test_set.discard(5)\n",
        "print(\"My updated set:\", test_set)  # No error is raised. Same set returned.\n"
      ],
      "metadata": {
        "colab": {
          "base_uri": "https://localhost:8080/"
        },
        "id": "B7BTFvvn2aBX",
        "outputId": "52b61ea2-8ed2-464d-b456-ac7c7b576594"
      },
      "execution_count": null,
      "outputs": [
        {
          "output_type": "stream",
          "name": "stdout",
          "text": [
            "My new set: {1, 2, 4}\n",
            "My updated set: {1, 2, 4}\n"
          ]
        }
      ]
    },
    {
      "cell_type": "markdown",
      "source": [
        "###pop():\n",
        "This method removes and returns an arbitrary element from the set. (open code cell and type along)"
      ],
      "metadata": {
        "id": "I-lotd5B3IG0"
      }
    },
    {
      "cell_type": "code",
      "source": [
        "prime_set = {2,3,5,7}\n",
        "\n",
        "# Pop an arbitrary element from the set\n",
        "poped_elt = prime_set.pop()\n",
        "\n",
        "print(\"Popped element:\", poped_elt)\n",
        "print(\"My new prime set:\", prime_set)\n"
      ],
      "metadata": {
        "colab": {
          "base_uri": "https://localhost:8080/"
        },
        "id": "aAwb_0YC3aF-",
        "outputId": "cda53165-62f3-4231-b5e7-0a371aa0f378"
      },
      "execution_count": null,
      "outputs": [
        {
          "output_type": "stream",
          "name": "stdout",
          "text": [
            "Popped element: 2\n",
            "My new prime set: {3, 5, 7}\n"
          ]
        }
      ]
    }
  ]
}