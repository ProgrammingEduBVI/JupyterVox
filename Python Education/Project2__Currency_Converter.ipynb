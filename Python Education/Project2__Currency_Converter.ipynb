{
  "nbformat": 4,
  "nbformat_minor": 0,
  "metadata": {
    "colab": {
      "provenance": [],
      "toc_visible": true
    },
    "kernelspec": {
      "name": "python3",
      "display_name": "Python 3"
    },
    "language_info": {
      "name": "python"
    }
  },
  "cells": [
    {
      "cell_type": "markdown",
      "source": [
        "# Currency Converter\n",
        "In this task you will be provided with some instructions on what is expected to achieve in the currency converter task. Firstly the base currency is asigned a value 1 which is the USD. The other currencies are also assigned values relative to the USD, this means the value asigned is the worth of a USD.\n",
        "The main task is to implement a python program that takes a USD value and returns the value in the three other currencies i.e Pound, Euro and Yen.\n",
        "\n",
        "# Technical Instruction\n",
        "To solve this problem, the student needs to choose a suitable data structure and create a variable that can store the rates for the currencies from where the convertions can be made. Also, write a simple algorithm to nicely display the output after allowing the user to select the input currency and the output currency.\n",
        "\n",
        "# Task Zero\n",
        "To start, it is best to explain to students the purpose of this project. This project entails building a currency converter.\n",
        "\n",
        "Question:\n",
        "\n",
        "Write a Python program that implements a currency converter with the following features:\n",
        "\n",
        "*  Your program should support at least four different currencies (e.g., USD, Pound, Euro, Yen with codes assigned to each.).\n",
        "\n",
        "* Use the US dollar (USD) as the base currency. e.g asign USD to be 1.0\n",
        "\n",
        "*   Your program should ask user to input the currency code (usd USD, pound for Pound, euro for Euro, yen for Yen).\n",
        "\n",
        "*  Your program will then prompt the user to enter an amount in US dollars.\n",
        "\n",
        "* Your program will then display the user's selected currency, the entered amount in US dollars, and the equivalent amounts in all other supported currencies.\n",
        "\n",
        "\n",
        "\n",
        "\n",
        "\n",
        "\n",
        "\n",
        "\n",
        "\n",
        "\n",
        "\n",
        "    \n",
        "    \n",
        "    \n",
        "\n"
      ],
      "metadata": {
        "id": "EM3giLpZswn7"
      }
    },
    {
      "cell_type": "markdown",
      "source": [
        "#Program Design Hints\n",
        "\n",
        "\n",
        "\n",
        "*  The code establishes USD as the base currency for currency conversions.\n",
        "\n",
        "*   It defines conversion rates for Pound, Euro, and Yen against the USD.\n",
        "*  It performs conversions between USD and Pound, USD and Euro, and Euro and USD.\n",
        "\n",
        "* It allows user input for converting USD to Euro.\n",
        "*   It sets up a dictionary (currencies) to store conversion rates for different currencies.\n",
        "\n",
        "*   It prompts the user to input an amount in USD and the target currency for conversion.\n",
        "*   It checks if the target currency is valid and performs the conversion if it is, printing the result; otherwise, it displays an error message.\n",
        "\n",
        "\n",
        "\n",
        "\n",
        "\n",
        "\n",
        "\n",
        "\n",
        "\n",
        "\n",
        "\n",
        "\n",
        "\n",
        "\n",
        "\n",
        "\n",
        "\n"
      ],
      "metadata": {
        "id": "0E8SX_p-t8yd"
      }
    },
    {
      "cell_type": "markdown",
      "source": [],
      "metadata": {
        "id": "SZLrFVxfeq4u"
      }
    },
    {
      "cell_type": "markdown",
      "source": [
        "#Code Exercise"
      ],
      "metadata": {
        "id": "8-QpHKnwz5aB"
      }
    },
    {
      "cell_type": "markdown",
      "source": [
        "#Task 1:  (7mins)\n",
        "Use variables to show currency conversion between two currencies. For example USD and Pounds"
      ],
      "metadata": {
        "id": "hXnhb7R3ZWbJ"
      }
    },
    {
      "cell_type": "code",
      "source": [
        "'''To perform this task we decided to make USD the base currency\n",
        "   Thus, throughout the subsequent task other currencies (pound, euro, yen)\n",
        "   would be compared against the value of a USD'''\n",
        "\n",
        "pound_rate = 0.80\n",
        "usd_amount = 25\n",
        "pounds_amount = usd_amount * pound_rate\n",
        "print(\"USD\", usd_amount, \"is equivalent to\", pounds_amount, \"pounds\")"
      ],
      "metadata": {
        "id": "qk4E0OqPXOAG",
        "colab": {
          "base_uri": "https://localhost:8080/"
        },
        "outputId": "890f9e2f-92f9-430e-d489-1983c17e32b1"
      },
      "execution_count": null,
      "outputs": [
        {
          "output_type": "stream",
          "name": "stdout",
          "text": [
            "USD 25 is equivalent to 20.0 pounds\n"
          ]
        }
      ]
    },
    {
      "cell_type": "markdown",
      "source": [
        "#Task 2: (7mins)\n",
        " Use variables to show currency conversion between two currencies. eg. USD and Euro\n"
      ],
      "metadata": {
        "id": "3EPt08mWxHZf"
      }
    },
    {
      "cell_type": "code",
      "source": [
        "# Convert USD 25 to Euro\n",
        "euro_rate = 0.94\n",
        "usd_amount = 25\n",
        "euros_amount = usd_amount * euro_rate\n",
        "print(\"USD\", usd_amount, \"is equivalent to\", euros_amount, \"euros\")"
      ],
      "metadata": {
        "id": "UAbRlhv_ZvNG",
        "colab": {
          "base_uri": "https://localhost:8080/"
        },
        "outputId": "1217403e-9322-4b59-fd44-aa91360d40b4"
      },
      "execution_count": null,
      "outputs": [
        {
          "output_type": "stream",
          "name": "stdout",
          "text": [
            "USD 25 is equivalent to 23.5 euros\n"
          ]
        }
      ]
    },
    {
      "cell_type": "markdown",
      "source": [
        "#Task 3: (7mins)\n",
        "Use variables to show currency conversion between two currencies. eg. Euro and USD"
      ],
      "metadata": {
        "id": "7Z4cgrpox5PH"
      }
    },
    {
      "cell_type": "code",
      "source": [
        "# Convert Euro 25 to USD\n",
        "# Now since USD is the base we divide the euro value with its rate\n",
        "euro_rate = 0.94\n",
        "euros_amount = 25\n",
        "usd_amount = euros_amount / euro_rate\n",
        "print(euros_amount, \"euros is equivalent to\", usd_amount, \"USD\")"
      ],
      "metadata": {
        "id": "W7k2L9pLaGVv",
        "colab": {
          "base_uri": "https://localhost:8080/"
        },
        "outputId": "b96613b0-f1d0-4572-9852-5d8888660487"
      },
      "execution_count": null,
      "outputs": [
        {
          "output_type": "stream",
          "name": "stdout",
          "text": [
            "25 euros is equivalent to 26.595744680851066 USD\n"
          ]
        }
      ]
    },
    {
      "cell_type": "markdown",
      "source": [
        "#Task 4: (7mins)\n",
        " Ask the User to input the amount to be converted. The rate should be in a variables . (Use this between Test 1 currencies)"
      ],
      "metadata": {
        "id": "PgCR8OtNy955"
      }
    },
    {
      "cell_type": "code",
      "source": [
        "# Accept user input in USD and convert it to Euro\n",
        "euro_rate = 0.94\n",
        "usd_amount = float(input(\"Enter USD amount: \"))\n",
        "euros_amount = usd_amount * euro_rate\n",
        "print(\"USD\", usd_amount, \"is equivalent to\", euros_amount, \"euros\")"
      ],
      "metadata": {
        "id": "HgMW7IaTahth",
        "colab": {
          "base_uri": "https://localhost:8080/"
        },
        "outputId": "9b2dbc1d-5544-4bcd-dcaf-5c22607b06f5"
      },
      "execution_count": null,
      "outputs": [
        {
          "output_type": "stream",
          "name": "stdout",
          "text": [
            "Enter USD amount: 25\n",
            "USD 25.0 is equivalent to 23.5 euros\n"
          ]
        }
      ]
    },
    {
      "cell_type": "markdown",
      "source": [
        "#Task 5: (8mins)\n",
        "Students are to create a dictionary and put the Four currencies used. The dictionary will contain currency name and rates as the keys values and variables"
      ],
      "metadata": {
        "id": "LfsjM0MYc94J"
      }
    },
    {
      "cell_type": "code",
      "source": [
        "currencies = {\n",
        "    \"usd\": 1.0,\n",
        "    \"euro\": 0.94,\n",
        "    \"pound\": 0.80,\n",
        "    \"yen\": 7.25\n",
        "}\n",
        "print(currencies)"
      ],
      "metadata": {
        "id": "ZmDUy9GLdG5H",
        "colab": {
          "base_uri": "https://localhost:8080/"
        },
        "outputId": "e09ce416-1b38-48ae-c0cf-30d26fd5c74b"
      },
      "execution_count": null,
      "outputs": [
        {
          "output_type": "stream",
          "name": "stdout",
          "text": [
            "{'usd': 1.0, 'euro': 0.94, 'pound': 0.8, 'yen': 7.25}\n"
          ]
        }
      ]
    },
    {
      "cell_type": "markdown",
      "source": [
        "#Task 6: Combine all task (20mins)\n",
        "Now combining all features across Task [1 to 3], ask students to perform currency conversion based on the choice of target currency selected from the dictionary and the amount entered by the user.\n",
        "\n",
        "Students should write an if statement to that checks whether the target currency is contained in the currency. If yes, the amount in variable usd_amount should be used to multiple the rate of target_currency gotten from the dictionary. The result should be saved in a variable called converted_amount and printed out.\n",
        "\n",
        "If target_currency is not in the dictionary \"currencies\",print a statement to say \"invalid currency entered\""
      ],
      "metadata": {
        "id": "OvUhL1uZ1X9b"
      }
    },
    {
      "cell_type": "code",
      "source": [
        "usd_amount = float(input(\"Enter USD amount: \"))\n",
        "target_currency = input(\"Enter the currency you want to convert to (usd, euro, pound, yen): \")\n",
        "\n",
        "\n",
        "if target_currency in currencies:\n",
        "\n",
        "    converted_amount = usd_amount * currencies[target_currency]\n",
        "    print(\"USD\", usd_amount, \"is equivalent to\", converted_amount, target_currency)\n",
        "else:\n",
        "    print(\"Invalid currency selected\")"
      ],
      "metadata": {
        "id": "7U9JaPhaz0mQ",
        "colab": {
          "base_uri": "https://localhost:8080/"
        },
        "outputId": "85abeac0-787c-453f-a064-87f7edd74963"
      },
      "execution_count": null,
      "outputs": [
        {
          "output_type": "stream",
          "name": "stdout",
          "text": [
            "Enter USD amount: 25\n",
            "Enter the currency you want to convert to (usd, euro, pound, yen): euro\n",
            "USD 25.0 is equivalent to 23.5 euro\n"
          ]
        }
      ]
    }
  ]
}