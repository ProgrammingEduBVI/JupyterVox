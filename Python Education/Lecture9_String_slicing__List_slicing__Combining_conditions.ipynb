{
  "nbformat": 4,
  "nbformat_minor": 0,
  "metadata": {
    "colab": {
      "provenance": [],
      "toc_visible": true
    },
    "kernelspec": {
      "name": "python3",
      "display_name": "Python 3"
    },
    "language_info": {
      "name": "python"
    }
  },
  "cells": [
    {
      "cell_type": "markdown",
      "source": [
        "#Task Zero: Overview of Today's task:\n",
        "\n",
        "Welcome students to today's session. This are the list of concepts to be covered today\n",
        "\n",
        "1. Review and practice from last lecture (Tuple & Set)\n",
        "2. String Slicing\n",
        "3. List Slicing\n",
        "4. Combining conditions\n",
        "\n",
        "\n",
        "\n",
        "\n",
        "\n",
        "\n",
        "\n",
        "\n",
        "\n",
        "\n",
        "\n"
      ],
      "metadata": {
        "id": "sMckHwte8FdM"
      }
    },
    {
      "cell_type": "markdown",
      "source": [
        "# Task One: Review from last lecture\n",
        "\n"
      ],
      "metadata": {
        "id": "pWgWdMFGGz07"
      }
    },
    {
      "cell_type": "markdown",
      "source": [
        "##Active recall excercise\n",
        "\n",
        " Qa. What is  the main difference between a set and a list:\n",
        "```\n",
        "Ans: Set is create with a {} while list is created using [].\n",
        "```\n",
        "\n",
        "Qb. What is the difference between a tuple and a set\n",
        "```\n",
        "Tuple is created using parentheses(), while set is created using curly bracket {}.\n",
        "```\n",
        "\n",
        "Qc. What are two properties of set you know.\n",
        "```\n",
        "Ans: Prop1.\n",
        "Uniqueness: A set cannot contain the same element.\n",
        "    Prop2:\n",
        "Cretion style: In Python, we can either create a new set using constructors or by using {}\n",
        "    Prop3:\n",
        "Container: A set cannot be empty. Basically, an empty set is considered a dictionary instead.\n",
        "\n",
        "```\n",
        "Qd. Can we add an element to a set when it's been created\n",
        "```\n",
        "Ans: Yes\n",
        "```\n",
        "\n",
        "Qe. Can we add an empty to a tuple when it's been created\n",
        "```\n",
        "Ans: No. Tuples are immutable\n",
        "```\n",
        "\n",
        "Qf. How tuples different from list\n",
        "\n",
        "```\n",
        "Ans:\n",
        "  dif1:\n",
        "list are mutable - items can be changed when created but set is not.\n",
        "  diff2:\n",
        "list are created with [], while tuple are created with ().\n",
        "\n",
        "```\n",
        "\n",
        "\n"
      ],
      "metadata": {
        "id": "9KN699YBIatl"
      }
    },
    {
      "cell_type": "markdown",
      "source": [
        "##Active Recall 2. (Coding Retrieval)"
      ],
      "metadata": {
        "id": "fM6fMaWhYBcc"
      }
    },
    {
      "cell_type": "markdown",
      "source": [
        "Qg. Open a code cell and create tuple that contains 5 integer items."
      ],
      "metadata": {
        "id": "tXkHPS1OYS7B"
      }
    },
    {
      "cell_type": "code",
      "source": [
        "#tuple containing 5 items\n",
        "my_tuple = (5,7,8,5,1)\n",
        "print(my_tuple)"
      ],
      "metadata": {
        "colab": {
          "base_uri": "https://localhost:8080/"
        },
        "id": "xSWEyLCeYdSM",
        "outputId": "dac2e892-c8fc-4be3-8beb-5d80fb9856d5"
      },
      "execution_count": null,
      "outputs": [
        {
          "output_type": "stream",
          "name": "stdout",
          "text": [
            "(5, 7, 8, 5, 1)\n"
          ]
        }
      ]
    },
    {
      "cell_type": "markdown",
      "source": [
        "Qh. Create two sets and find the union of both sets. (students should complete this in code cell)"
      ],
      "metadata": {
        "id": "w5vz6y8SYt9N"
      }
    },
    {
      "cell_type": "code",
      "source": [
        "#creating of two sets.\n",
        "\n",
        "my_set1 = {4,6,7,2,2}\n",
        "my_set2 = {5,6,7,7,4}\n",
        "\n",
        "#finding the union of sets above\n",
        "my_set3 = print(\"The union is:\", my_set1 | my_set2)"
      ],
      "metadata": {
        "colab": {
          "base_uri": "https://localhost:8080/"
        },
        "id": "JcAPTL88Y6Il",
        "outputId": "c32da1a3-ccdc-499a-cf5f-96768b93fc13"
      },
      "execution_count": null,
      "outputs": [
        {
          "output_type": "stream",
          "name": "stdout",
          "text": [
            "The union is: {2, 4, 5, 6, 7}\n"
          ]
        }
      ]
    },
    {
      "cell_type": "markdown",
      "source": [
        "#Task Two: String Slicing\n",
        "\n",
        "\n",
        "String slicing as the name goes simply mean the process of extracting a string using a specific range of indices. Another term for this is substring. Basically, we can form a new string from the extracted string.\n"
      ],
      "metadata": {
        "id": "AI6VGPJmZxuX"
      }
    },
    {
      "cell_type": "markdown",
      "source": [
        "\n",
        "\n",
        "The syntax for string slicing is:\n",
        "\n",
        "```\n",
        "sring[start:stop:step]\n",
        "```\n",
        "Breakdown:\n",
        "\n",
        "start: The starting index of the slice (inclusive).\n",
        "\n",
        "stop: The ending index of the slice (exclusive).\n",
        "\n",
        "step (optional): The step or increment between characters. Default is 1, increase as desired.\n"
      ],
      "metadata": {
        "id": "88_lbXCQiJsM"
      }
    },
    {
      "cell_type": "code",
      "source": [
        "string= \"hihhdlsahkhufhriupfyriuqhiuf\""
      ],
      "metadata": {
        "id": "aj2gdO0CcAzo"
      },
      "execution_count": null,
      "outputs": []
    },
    {
      "cell_type": "markdown",
      "source": [
        "###Slice One:\n",
        "\n",
        "Recall the [] syntax for accessing a part of a string. Let's now use this to slice a string. (open and type on code cell)."
      ],
      "metadata": {
        "id": "ZgQtreI6i-ER"
      }
    },
    {
      "cell_type": "code",
      "source": [
        "#Extracting String \"Swift\" from string \"TaylorSwift\"\n",
        "\n",
        "my_string = \"TaylorSwift\"\n",
        "print(my_string[6:11])"
      ],
      "metadata": {
        "colab": {
          "base_uri": "https://localhost:8080/"
        },
        "id": "CsCGTHq7jXre",
        "outputId": "576d3c7c-68dd-4ae7-afb1-6a6e567de1f5"
      },
      "execution_count": null,
      "outputs": [
        {
          "output_type": "stream",
          "name": "stdout",
          "text": [
            "Swift\n"
          ]
        }
      ]
    },
    {
      "cell_type": "markdown",
      "source": [
        "###Slice Two:\n",
        "\n",
        "We can also extract one character from a string."
      ],
      "metadata": {
        "id": "huDQginZkELn"
      }
    },
    {
      "cell_type": "code",
      "source": [
        "#Extracting a character \"S\" from string \"San Antonio\"\n",
        "\n",
        "my_string1 = \"San Antonio\"\n",
        "print(my_string1[0])"
      ],
      "metadata": {
        "colab": {
          "base_uri": "https://localhost:8080/"
        },
        "id": "DAaufZDakTS8",
        "outputId": "daff6735-167e-4f29-c4e6-1600b52d5331"
      },
      "execution_count": null,
      "outputs": [
        {
          "output_type": "stream",
          "name": "stdout",
          "text": [
            "S\n"
          ]
        }
      ]
    },
    {
      "cell_type": "markdown",
      "source": [
        "###Slice Three:\n",
        "\n",
        "Recall the range function., the [] behaves like the it. We can work get a substring from a string using the range\n"
      ],
      "metadata": {
        "id": "rS_vOzXvk81Z"
      }
    },
    {
      "cell_type": "code",
      "source": [
        "my_string = \"Examination\"\n",
        "print(my_string[0:7:2])\n"
      ],
      "metadata": {
        "colab": {
          "base_uri": "https://localhost:8080/"
        },
        "id": "nZ0pMzxw4mCl",
        "outputId": "7279a692-1222-4185-93e2-1a7bb3eb61a7"
      },
      "execution_count": null,
      "outputs": [
        {
          "output_type": "stream",
          "name": "stdout",
          "text": [
            "Eaia\n"
          ]
        }
      ]
    },
    {
      "cell_type": "markdown",
      "source": [
        "##String Feature\n",
        "\n",
        "String, in Python are immutable. This basically means they cannot be changed once they are defined. Attempt to do so will throw error"
      ],
      "metadata": {
        "id": "GMlamD5T5wcF"
      }
    },
    {
      "cell_type": "code",
      "source": [
        "#Trying to include \"a\" in string \"TaylorSwift\" will make python to complain (error raise)\n",
        "\n",
        "my_string = \"TaylorSwift\"\n",
        "my_string[0] = \"a\""
      ],
      "metadata": {
        "colab": {
          "base_uri": "https://localhost:8080/",
          "height": 176
        },
        "id": "HTlCGI1t6h-_",
        "outputId": "d88b5f5c-283b-431b-f4f3-c88f532fd9f8"
      },
      "execution_count": null,
      "outputs": [
        {
          "output_type": "error",
          "ename": "TypeError",
          "evalue": "'str' object does not support item assignment",
          "traceback": [
            "\u001b[0;31m---------------------------------------------------------------------------\u001b[0m",
            "\u001b[0;31mTypeError\u001b[0m                                 Traceback (most recent call last)",
            "\u001b[0;32m<ipython-input-36-817064e770a5>\u001b[0m in \u001b[0;36m<cell line: 4>\u001b[0;34m()\u001b[0m\n\u001b[1;32m      2\u001b[0m \u001b[0;34m\u001b[0m\u001b[0m\n\u001b[1;32m      3\u001b[0m \u001b[0mmy_string\u001b[0m \u001b[0;34m=\u001b[0m \u001b[0;34m\"TaylorSwift\"\u001b[0m\u001b[0;34m\u001b[0m\u001b[0;34m\u001b[0m\u001b[0m\n\u001b[0;32m----> 4\u001b[0;31m \u001b[0mmy_string\u001b[0m\u001b[0;34m[\u001b[0m\u001b[0;36m0\u001b[0m\u001b[0;34m]\u001b[0m \u001b[0;34m=\u001b[0m \u001b[0;34m\"a\"\u001b[0m\u001b[0;34m\u001b[0m\u001b[0;34m\u001b[0m\u001b[0m\n\u001b[0m",
            "\u001b[0;31mTypeError\u001b[0m: 'str' object does not support item assignment"
          ]
        }
      ]
    },
    {
      "cell_type": "markdown",
      "source": [
        "#Task Three: List Slicing\n",
        "\n",
        "List slicing in Python behave same as string slicing. It basically allows you to extract a portion from a list.This is achieved by using specified range of indices. Another name for this is sublisting.\n",
        "\n",
        "The general syntax for list slicing is as follows:"
      ],
      "metadata": {
        "id": "fipt2hGGQAa_"
      }
    },
    {
      "cell_type": "markdown",
      "source": [
        "\n",
        "\n",
        "The syntax for List slicing is:\n",
        "\n",
        "```\n",
        "List[start:stop:step]\n",
        "```\n",
        "Breakdown:\n",
        "\n",
        "start: The starting index of the slice (inclusive). This means that the element of this index is included in the slicing\n",
        "\n",
        "stop: The ending index of the slice (exclusive). This mean that the element of this index is not included in this slicing.\n",
        "\n",
        "step (optional): The step or increment between characters. Default is 1, increase as desired.\n"
      ],
      "metadata": {
        "id": "jry20rBYRtBY"
      }
    },
    {
      "cell_type": "markdown",
      "source": [
        "###List Slice One:\n",
        "\n",
        "my_list = [0, 1, 2, 3, 4, 5, 6, 7, 8, 9]"
      ],
      "metadata": {
        "id": "PauDmhlE7sAo"
      }
    },
    {
      "cell_type": "code",
      "source": [
        "# Basic slicing. Extract numbers between 2 and 5\n",
        "my_list = [0, 1, 2, 3, 4, 5, 6, 7, 8, 9]\n",
        "slice_1 = my_list[2:6]  # [2, 3, 4, 5]\n",
        "print(slice_1)"
      ],
      "metadata": {
        "id": "1k796-9n8ECV",
        "colab": {
          "base_uri": "https://localhost:8080/"
        },
        "outputId": "03195242-6c00-470c-ae35-0bdc9ad0607a"
      },
      "execution_count": null,
      "outputs": [
        {
          "output_type": "stream",
          "name": "stdout",
          "text": [
            "[2, 3, 4, 5]\n"
          ]
        }
      ]
    },
    {
      "cell_type": "markdown",
      "source": [
        "##List Slice Two:\n",
        "Let students know tha this will involve slicing with steps."
      ],
      "metadata": {
        "id": "mqRagyG-8XGW"
      }
    },
    {
      "cell_type": "code",
      "source": [
        "# Slicing with step. Extract numbers between 1 and 7 with a step of 2\n",
        "my_list = [0, 1, 2, 3, 4, 5, 6, 7, 8, 9]\n",
        "slice_2 = my_list[1:8:2]  # [1, 3, 5, 7]\n",
        "print(slice_2)"
      ],
      "metadata": {
        "id": "sDqlYY_C8rXS",
        "colab": {
          "base_uri": "https://localhost:8080/"
        },
        "outputId": "38e71c97-9242-4bc6-dcd5-07303b8d1868"
      },
      "execution_count": null,
      "outputs": [
        {
          "output_type": "stream",
          "name": "stdout",
          "text": [
            "[1, 3, 5, 7]\n"
          ]
        }
      ]
    },
    {
      "cell_type": "markdown",
      "source": [
        "##List Slice Three:\n",
        "Explain to students that another for of list slicing will be done. This for involves omitting the start and stop.  "
      ],
      "metadata": {
        "id": "q-xkeEoN86kl"
      }
    },
    {
      "cell_type": "code",
      "source": [
        "# Omitting start and stop. Extract numbers between 0 and 9 with a step of 2.\n",
        "my_list = [0, 1, 2, 3, 4, 5, 6, 7, 8, 9]\n",
        "slice_3 = my_list[::]  # [0, 3, 6, 9]\n",
        "print(slice_3)"
      ],
      "metadata": {
        "id": "stcjrEkx9MyQ",
        "colab": {
          "base_uri": "https://localhost:8080/"
        },
        "outputId": "17b68f14-42df-4072-bd13-1791ca3fc1e5"
      },
      "execution_count": null,
      "outputs": [
        {
          "output_type": "stream",
          "name": "stdout",
          "text": [
            "[0, 1, 2, 3, 4, 5, 6, 7, 8, 9]\n"
          ]
        }
      ]
    },
    {
      "cell_type": "markdown",
      "source": [
        "##List Slice Four:\n",
        "Explain to student thatw e could use negative integers to in our list slicing."
      ],
      "metadata": {
        "id": "8bmHA0Pb9foW"
      }
    },
    {
      "cell_type": "code",
      "source": [
        "# Negative indices. Using negative integers, extract the third  to the last number on the list\n",
        "my_list = [0, 1, 2, 3, 4, 5, 6, 7, 8, 9]\n",
        "slice_4 = my_list[-3: -1 ]  # [7, 8]\n",
        "print(slice_4)"
      ],
      "metadata": {
        "id": "vygbO1IA9prv",
        "colab": {
          "base_uri": "https://localhost:8080/"
        },
        "outputId": "956b01e8-161a-43a4-c799-9ecd6fe57ff8"
      },
      "execution_count": null,
      "outputs": [
        {
          "output_type": "stream",
          "name": "stdout",
          "text": [
            "[7, 8]\n"
          ]
        }
      ]
    },
    {
      "cell_type": "code",
      "source": [
        "#Extracting list from list\n",
        "my_list = [[0, 1, 2], [3, 4, 5] ,[6, 7, 8],[ 9], [ 9,0]]\n",
        "newlist = my_list[::2]\n",
        "print(newlist)"
      ],
      "metadata": {
        "colab": {
          "base_uri": "https://localhost:8080/"
        },
        "id": "dW6klWRLFx4p",
        "outputId": "b3d161dd-7e94-4335-bc14-f6f0fc4b7741"
      },
      "execution_count": null,
      "outputs": [
        {
          "output_type": "stream",
          "name": "stdout",
          "text": [
            "[[0, 1, 2], [6, 7, 8], [9, 0]]\n"
          ]
        }
      ]
    },
    {
      "cell_type": "markdown",
      "source": [
        "#Task Three: Combining conditions"
      ],
      "metadata": {
        "id": "_09gPUpjSsVF"
      }
    },
    {
      "cell_type": "markdown",
      "source": [
        "Explain this concept to students using this three points.\n",
        "\n",
        "1. We can create complex logical expression using two logical operators\n",
        "2. Use of 'and','or', and 'not' to do evaluations\n",
        "3. Evalutions are done simultanously and are sophisticated"
      ],
      "metadata": {
        "id": "OdfTMnkZXk5F"
      }
    },
    {
      "cell_type": "markdown",
      "source": [
        "##Key Logical Operators:\n",
        "\n",
        "and: The two separate criteria must both be true for the combined condition to be true.\n",
        "\n",
        "or: In the event that at least one of the constituent requirements is met, the combined condition is true.\n",
        "\n",
        "\n",
        "not: This operator negates the condition's outcome; if it is true, it becomes false, and vice versa."
      ],
      "metadata": {
        "id": "jm0A1l3-5Kn8"
      }
    },
    {
      "cell_type": "markdown",
      "source": [
        "##Using and Operator:\n",
        "Two conditions are checked using the \"and\" logical operator:"
      ],
      "metadata": {
        "id": "-BTpb8jADVHX"
      }
    },
    {
      "cell_type": "code",
      "source": [
        "'''\n",
        "Create two variables x and y,Assign integer values 4 and 8 respectively\n",
        "then write an if statement using logical operator \"and\" to check if both x>1 and y>2.\n",
        "if both conditions are true, code should print \"Both x and y are greater than 1 and 2\".\n",
        "\n",
        "'''\n",
        "\n",
        "x = 4\n",
        "y = 8\n",
        "\n",
        "if x > 1 and y > 2:\n",
        "    print(\"Both x and y are greater than 1 and 2\")\n"
      ],
      "metadata": {
        "id": "xAhjp8_l5bk1",
        "colab": {
          "base_uri": "https://localhost:8080/"
        },
        "outputId": "9ccb25c4-48fa-4d7c-aa86-bd0a3d62475b"
      },
      "execution_count": null,
      "outputs": [
        {
          "output_type": "stream",
          "name": "stdout",
          "text": [
            "Both x and y are greater than 1 and 2\n"
          ]
        }
      ]
    },
    {
      "cell_type": "markdown",
      "source": [
        "Logic Check:\n",
        "\n",
        "Ask students this\n",
        "\n",
        "```\n",
        "\n",
        "Q1: What will this code print?\n",
        "Ans: Students should explain the output\n",
        "\n",
        "Q2: Can you modify the code to print a different message based on the values of x and y?\n",
        "Ans:Yes.\n",
        "Using the elif (else if) and else statement to handle different modify the output\n",
        "\n",
        "Q3: Can you modify this code to check if x and y are equal\n",
        "Ans: Yes.\n",
        "if x == y:\n",
        "  print(\"x and y are equal.\")\n",
        "else:\n",
        "  print(\"x and y are not equal.\")\n",
        "```\n",
        "\n",
        "\n"
      ],
      "metadata": {
        "id": "nmbjJuwQ9UqA"
      }
    },
    {
      "cell_type": "markdown",
      "source": [
        "##Using or Operator:\n",
        "The \"or\" operator combines two conditions. If any is true, then the statement becomes true."
      ],
      "metadata": {
        "id": "nUZG_mHs6Ktt"
      }
    },
    {
      "cell_type": "markdown",
      "source": [
        "'''\n",
        "Write a Python program that determines a person's age (25)\n",
        "stored in a variable and outputs a message if:\n",
        "\n",
        "The person is under 18 years old. OR\n",
        "The person is 50 years old or older.\n",
        "Combine the conditions for these two scenarios using the\n",
        "or operator in an if statement.\n",
        "'''"
      ],
      "metadata": {
        "id": "8HJ71nH40UXV"
      }
    },
    {
      "cell_type": "code",
      "source": [
        "age = 25\n",
        "\n",
        "if age < 18 or age >= 50:\n",
        "    print(\"You are either under 18 or 50 and older.\")\n",
        "\n",
        "#Emphasize that this code won't run because neither of both scenarios is true.\n"
      ],
      "metadata": {
        "id": "_Y6jP-uB7yW9",
        "colab": {
          "base_uri": "https://localhost:8080/"
        },
        "outputId": "22bbd680-0742-4ce0-87a3-bb779e975cb2"
      },
      "execution_count": null,
      "outputs": [
        {
          "output_type": "stream",
          "name": "stdout",
          "text": [
            "Sorry\n"
          ]
        }
      ]
    },
    {
      "cell_type": "markdown",
      "source": [
        "##Using not Operator:"
      ],
      "metadata": {
        "id": "pjlb0iXsHAu1"
      }
    },
    {
      "cell_type": "code",
      "source": [
        "#Create a boolean variable is_raining and assign False to it.\n",
        "Write an if\n",
        "is_raining = False\n",
        "\n",
        "if not is_raining:\n",
        "    print(\"It's not raining.\")\n",
        "else:\n",
        "  print(\"Yeeh\")\n"
      ],
      "metadata": {
        "id": "kIHrLJfsI1lF",
        "colab": {
          "base_uri": "https://localhost:8080/"
        },
        "outputId": "a2cf7840-645f-4410-e560-96928aa903ec"
      },
      "execution_count": null,
      "outputs": [
        {
          "output_type": "stream",
          "name": "stdout",
          "text": [
            "It's not raining.\n"
          ]
        }
      ]
    },
    {
      "cell_type": "markdown",
      "source": [
        "##Complex equation 1\n",
        "\n",
        "Write a Python program that uses three integer variables (b, c, and h) and an if statement with the or operator to achieve the following:\n",
        "\n",
        "Assign any integer values to the variables b, c, and h.\n",
        "\n",
        "Use an if statement to check a condition involving these variables.\n",
        "\n",
        "The if statement's condition should be true if at least one of the following is true:\n",
        "\n",
        "The value of c is less than 21.\n",
        "The value of h is greater than 20.\n",
        "\n",
        "If the if statement's condition is true, print the message \"Awesome Understanding\".\n",
        "\n",
        "\n"
      ],
      "metadata": {
        "id": "ezQ7hiedep9-"
      }
    },
    {
      "cell_type": "code",
      "source": [
        "b = 10\n",
        "c = 12\n",
        "h = 18\n",
        "\n",
        "# Explain this logic. Find below\n",
        "if ((h> 20) or (c < 21)):\n",
        "  print (\"Awesome Understanding\")"
      ],
      "metadata": {
        "id": "3zBypwyDZPtU",
        "colab": {
          "base_uri": "https://localhost:8080/"
        },
        "outputId": "7fb388fb-6789-4524-ddb7-37e52602cd3a"
      },
      "execution_count": null,
      "outputs": [
        {
          "output_type": "stream",
          "name": "stdout",
          "text": [
            "Awesome Understanding\n"
          ]
        }
      ]
    },
    {
      "cell_type": "markdown",
      "source": [
        "Breakdown of task above\n",
        "\n",
        "```\n",
        "if ((h > 20) or (c < 21)):\n",
        "This is an if statement that checks a condition using the or operator\n",
        "\n",
        "(h > 20): This checks if the value of h is greater than 20. The condition is False\n",
        "\n",
        "(c < 21): Checks if the value of c is less than 21. The condition is True\n",
        "\n",
        "Summary:\n",
        "Since the or operator checks if at least one condition is true,\n",
        "the entire if statement's condition becomes True because (c < 21) is True\n",
        "\n",
        "```\n",
        "\n",
        "\n"
      ],
      "metadata": {
        "id": "Vab_aNL9az6E"
      }
    },
    {
      "cell_type": "markdown",
      "source": [
        "##Complex equation 2"
      ],
      "metadata": {
        "id": "uUbqkDXre_2f"
      }
    },
    {
      "cell_type": "code",
      "source": [
        "'''\n",
        "Explain this code. Basically, These three integer values are assigned to the three variable\n",
        "declared (b,c,h). Then an if statement is written using the comparison and logical operators to\n",
        "evaluate the statement.\n",
        "'''\n",
        "\n",
        "b = 10\n",
        "c = 12\n",
        "h = 18\n",
        "\n",
        "# Explain this logic\n",
        "if ((h == 20) and ((c < b) or (c > h))):\n",
        "  print (\"Awesome Understanding\")\n",
        "else:\n",
        "  print(\"Explain how\")"
      ],
      "metadata": {
        "id": "cQP2i7JHdAeH",
        "colab": {
          "base_uri": "https://localhost:8080/"
        },
        "outputId": "1dc86f19-205d-4e5a-8635-f1fc363f3747"
      },
      "execution_count": null,
      "outputs": [
        {
          "output_type": "stream",
          "name": "stdout",
          "text": [
            "Explain how\n"
          ]
        }
      ]
    },
    {
      "cell_type": "markdown",
      "source": [
        "Breakdown of code above\n",
        "\n",
        "```\n",
        "if ((h == 20) and ((c < b) or (c > h)))\n",
        "if Statement Condition:\n",
        "\n",
        "(h == 20): This part checks if the value of h is equal to 20.\n",
        "\n",
        "((c < b) or (c > h)): This part checks if at least one of the following conditions is true using the or operator:\n",
        "(c < b): Checks if c is less than b.\n",
        "(c > h): Checks if c is greater than h.\n",
        "\n",
        "Combining Conditions:\n",
        "\n",
        "The entire if statement's condition is true only if:\n",
        "\n",
        "h is equal to 20 AND\n",
        "At least one of the following is true:\n",
        "c is less than b.\n",
        "c is greater than h.\n",
        "```\n",
        "\n"
      ],
      "metadata": {
        "id": "26ydgtWR1A5u"
      }
    },
    {
      "cell_type": "code",
      "source": [
        "print (4*3)"
      ],
      "metadata": {
        "colab": {
          "base_uri": "https://localhost:8080/"
        },
        "id": "LX8TulFxLbCo",
        "outputId": "5416263f-0e80-4f1e-91a7-6aca4d409898"
      },
      "execution_count": null,
      "outputs": [
        {
          "output_type": "stream",
          "name": "stdout",
          "text": [
            "12\n"
          ]
        }
      ]
    },
    {
      "cell_type": "code",
      "source": [
        "print (\"Hello \" + \"Brodi\")\n"
      ],
      "metadata": {
        "colab": {
          "base_uri": "https://localhost:8080/"
        },
        "id": "ihjMTKQ9Lg2k",
        "outputId": "935e2589-7ed9-4439-d344-953b8451ce35"
      },
      "execution_count": null,
      "outputs": [
        {
          "output_type": "stream",
          "name": "stdout",
          "text": [
            "Hello Brodi\n"
          ]
        }
      ]
    },
    {
      "cell_type": "code",
      "source": [
        "name = input ()"
      ],
      "metadata": {
        "id": "K-Y4jr_DLv4m"
      },
      "execution_count": null,
      "outputs": []
    }
  ]
}