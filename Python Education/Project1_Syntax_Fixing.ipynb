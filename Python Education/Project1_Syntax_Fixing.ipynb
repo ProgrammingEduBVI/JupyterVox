{
  "nbformat": 4,
  "nbformat_minor": 0,
  "metadata": {
    "colab": {
      "provenance": []
    },
    "kernelspec": {
      "name": "python3",
      "display_name": "Python 3"
    },
    "language_info": {
      "name": "python"
    }
  },
  "cells": [
    {
      "cell_type": "markdown",
      "source": [
        "#Title: Program Debugging\n",
        "Objective:   The goal of this project is to test the ability of sudents to debug their code effectively and efficently. The effiency of students are evaluated based on three metrics:\n",
        "\n",
        "1. Accurate understanding of the task\n",
        "2. The capability to identify and rectify code errors successfully.\n",
        "3. Completion speed - the rate at which students finish each coding task should be documented."
      ],
      "metadata": {
        "id": "q31pSBEwORMC"
      }
    },
    {
      "cell_type": "markdown",
      "source": [
        "#Task Zero:\n",
        "Explaining the term syntax error.\n",
        "\n",
        "\n",
        "\n",
        "1. Start by asking student to explain what syntax means.\n",
        "   Just like any natural language out there like English, Korean, Spanish etc have rules that determine how they should be constructed, every programming langauge has some rules that determines how its written.\n",
        "\n",
        "2. What happens when these rules are not followed (ask students\n",
        "   these). Basically, not following these rules throw an error known as syntax error. e.g: creating a list\n",
        "\n",
        "\n",
        "\n"
      ],
      "metadata": {
        "id": "gOFq7rpWRBOD"
      }
    },
    {
      "cell_type": "markdown",
      "source": [
        "#Task One:\n"
      ],
      "metadata": {
        "id": "fW1hhkSMTPBg"
      }
    },
    {
      "cell_type": "markdown",
      "source": [
        "##Syntax Debugging Excercise 1.\n",
        "\n",
        "Task Summary: In this excercise, students will encounter the initial block of code. Their task entails reading through the code line by line, identifying, and resolving potential errors. Multiple program executions are permissible to monitor error correction progress.\n",
        "\n",
        "1.   Student should type this code block in a code cell exactly as it appear (errors included).\n",
        "2.   Students should execute this code block and read error statements  \n",
        "1.   Students should correct errors indicated in each code line\n",
        "2.  Students should execute code again to check whether their solution is correct\n",
        "2.   students should systematically analyze and explain the logic of the code.\n",
        "\n",
        "\n",
        "\n"
      ],
      "metadata": {
        "id": "2n8BIBS8XnIj"
      }
    },
    {
      "cell_type": "code",
      "source": [
        "  #Code                                                   #inline code comments (instructors only)\n",
        "\n",
        "number = in(input(\"Please type in a number: \"))           #Incorrect (Check revised code)\n",
        "if number > 100:                                          #Correct\n",
        "  print(\"Number is greater than one hundred\")             #Correct\n",
        "elif number >. 36                                         #Incorrect (Check revised code)\n",
        "  prin (\"The number entered was greater than thirty six\"  #Incorrect (Check revised code)\n",
        "elf number == 30:                                         #Incorrect (Check revised code)\n",
        "         print(The number is equally to thirty\")          #Incorrect (Check revised code)\n",
        "else:                                                     #Correct\n",
        "               print(\"You entered: \" , number\")           #Incorrect (Check revised code)\n",
        "print(\"Thank you for participating\")                      #Correct (although code outside the if statement)\n",
        "\n",
        "\n",
        "\n",
        "\n",
        "\n"
      ],
      "metadata": {
        "colab": {
          "base_uri": "https://localhost:8080/",
          "height": 106
        },
        "id": "Vswu8eBRTyGv",
        "outputId": "1a8b41a9-20be-4322-95c0-caa24e15739d"
      },
      "execution_count": null,
      "outputs": [
        {
          "output_type": "error",
          "ename": "SyntaxError",
          "evalue": "unterminated string literal (detected at line 9) (<ipython-input-17-8784589e1e3f>, line 9)",
          "traceback": [
            "\u001b[0;36m  File \u001b[0;32m\"<ipython-input-17-8784589e1e3f>\"\u001b[0;36m, line \u001b[0;32m9\u001b[0m\n\u001b[0;31m    print(The number is equally to thirty\")          #Incorrect (Check revised code)\u001b[0m\n\u001b[0m                                         ^\u001b[0m\n\u001b[0;31mSyntaxError\u001b[0m\u001b[0;31m:\u001b[0m unterminated string literal (detected at line 9)\n"
          ]
        }
      ]
    },
    {
      "cell_type": "markdown",
      "source": [
        "## Revised Code\n",
        "\n",
        "Here's the updated version of the previously provided code. Each comment is  placed on a new line above the respective line of code it describes"
      ],
      "metadata": {
        "id": "8pK2feLVXp6F"
      }
    },
    {
      "cell_type": "code",
      "source": [
        "\n",
        "# Corrected - Changed 'in' to 'int' to convert input to integer.\n",
        "number = int(input(\"Please type in a number: \"))\n",
        "\n",
        "# Correct\n",
        "if number > 100:\n",
        "\n",
        "# Correct\n",
        "    print(\"Number is greater than one hundred\")\n",
        "\n",
        "# Corrected - Added colon after 36 and removed unnecessary dot.\n",
        "elif number > 36:\n",
        "\n",
        "# Corrected - Added missing 't' in print and corrected quote symbol.\n",
        "    print(\"The number entered was greater than thirty six\")\n",
        "\n",
        "# Corrected - Added colon and fixed indentation.\n",
        "elif number == 30:\n",
        "\n",
        "# Corrected - Fixed indentation and completed quote sign.\n",
        "    print(\"The number is equal to thirty\")\n",
        "\n",
        "# Correct\n",
        "else:\n",
        "\n",
        "# Corrected - Fixed indentation and removed the unnecessary closing quote.\n",
        "    print(\"You entered: \" , number)\n",
        "\n",
        "# Correct\n",
        "print(\"Thank you for participating\")\n",
        "\n",
        "\n"
      ],
      "metadata": {
        "colab": {
          "base_uri": "https://localhost:8080/"
        },
        "id": "cm5deOOWYCXj",
        "outputId": "4e8c6903-e766-4b6c-d394-ec32c06aeae6"
      },
      "execution_count": null,
      "outputs": [
        {
          "output_type": "stream",
          "name": "stdout",
          "text": [
            "20\n",
            "Hello Smith, you are 13\n",
            "Your new age is 23\n",
            "This is an awesome challenge for this 7\n",
            "Have a nice day!\n"
          ]
        }
      ]
    },
    {
      "cell_type": "markdown",
      "source": [
        "#Task Two:\n"
      ],
      "metadata": {
        "id": "uMoTgWjMY7iF"
      }
    },
    {
      "cell_type": "markdown",
      "source": [
        "##Syntax Debugging Excercise 2.\n",
        "\n",
        "Summary: For this exercise, students will come across the initial block of code. Students should scrutinize the code line by line, pinpointing, and rectifying potential errors. Multiple program executions are allowed to track progress in error correction.\n",
        "\n",
        "\n",
        "1.   Student should type this code block in a code cell exactly as it appear (errors included).\n",
        "2.   Students should execute this code block and read error statements  \n",
        "1.   Students should correct errors indicated in each code line\n",
        "2.  Students should execute code again to check whether their solution is correct\n",
        "2.   students should systematically analyze and explain the logic of the code.\n",
        "1.   Students should extend this code (add 5+ lines of syntatically correct codes\n",
        "2.   Students should give the code a suitable description\n",
        "\n",
        "\n",
        "\n",
        "\n"
      ],
      "metadata": {
        "id": "nvDcQZnSaG_x"
      }
    },
    {
      "cell_type": "code",
      "source": [
        "  # Code                                               #inline code comments (instructors only)\n",
        "\n",
        "name = \"Smith\"                                         #Correct\n",
        "age = 13                                               #Correct\n",
        "grade = 7                                              #Correct\n",
        "\n",
        "print(age + grade)                                     #Flexible. Could be a bug depending on how we conceptualize it.\n",
        "print(\"Hello \" + name + \", you are \" + st(age))        #Incorrect (Check revised code)\n",
        "new_age = age @ 10                                     #Incorrect (Check revised code)\n",
        "Print(\"Your new age is\", \"is\", new_age)                #Incorrect (Check revised code)\n",
        "print(\"This is an awesome challenge for this\", grade)  #Correct\n",
        "pRint (\"Have a nice day!\"))                            #Incorrect (Check revised code)\n",
        "\n"
      ],
      "metadata": {
        "id": "MrcBJKxsaMlf"
      },
      "execution_count": null,
      "outputs": []
    },
    {
      "cell_type": "markdown",
      "source": [
        "## Revised Code\n",
        "\n",
        "Here's the updated version of the previously provided code. Each comment is  placed on a new line above the respective line of code it describes"
      ],
      "metadata": {
        "id": "cf6Va0rIdtkc"
      }
    },
    {
      "cell_type": "code",
      "source": [
        "# Correct\n",
        "name = \"Smith\"\n",
        "\n",
        "# Correct\n",
        "age = 13\n",
        "\n",
        "# Correct\n",
        "grade = 7\n",
        "\n",
        "# Flexible. Could be a bug depending on how we conceptualize it.\n",
        "print(age + grade)\n",
        "\n",
        "# Corrected - Added \"str()\" to convert non-string data to string.\n",
        "print(\"Hello \" + name + \", you are \" + str(age))\n",
        "\n",
        "# Corrected - Changed special character \"@\" to \"+\".\n",
        "new_age = age + 10\n",
        "\n",
        "# Corrected - \"print\" should be in lowercase and extra \"is\" removed.\n",
        "print(\"Your new age is\", new_age)\n",
        "\n",
        "# Correct\n",
        "print(\"This is an awesome challenge for this\", grade)\n",
        "\n",
        "# Correct - \"print\" should be in lowercase and extra parenthesis removed.\n",
        "print(\"Have a nice day!\")\n"
      ],
      "metadata": {
        "colab": {
          "base_uri": "https://localhost:8080/"
        },
        "outputId": "1c5156c6-a0dc-4e9d-c3f0-ae2359ce027f",
        "id": "zCIFOJ6M8Ywy"
      },
      "execution_count": null,
      "outputs": [
        {
          "output_type": "stream",
          "name": "stdout",
          "text": [
            "20\n",
            "Hello Smith, you are 13\n",
            "Your new age is 23\n",
            "This is an awesome challenge for this 7\n",
            "Have a nice day!\n"
          ]
        }
      ]
    },
    {
      "cell_type": "markdown",
      "source": [
        "#Task Three:"
      ],
      "metadata": {
        "id": "tjVdz0wqF7-4"
      }
    },
    {
      "cell_type": "markdown",
      "source": [
        "##Syntax Debugging Excercise 3.\n",
        "\n",
        "Task Summary: Within this exercise, students will come across multiple code snippets and code blocks, numbered from 1 through 7 within a single code cell. It is expected of the student to enter, comprehend, and execute each code snippet, recognizing and rectifying any potential errors. Multiple executions of the program are permissible to oversee the progress of error correction.\n",
        "\n",
        "\n",
        "\n",
        "```\n",
        "All errors (bugs) must be resolved for the code cell to execute successfully.\n",
        "```\n",
        "\n",
        "\n",
        "\n",
        "\n",
        "\n",
        "\n",
        "\n"
      ],
      "metadata": {
        "id": "cJve96f9fh5Y"
      }
    },
    {
      "cell_type": "code",
      "source": [
        "# Working with list\n",
        "\n",
        "\n",
        "# 1. Missing colon after 'for'\n",
        "numbers = [1, 2, 3, 4, 5]\n",
        "for num in numbers\n",
        "    print(num)\n",
        "\n",
        "# 2. Incorrect method name 'apend'\n",
        "fruits = ['apple', 'orange', 'banana']\n",
        "fruits.apend('grape')\n",
        "print(fruits)\n",
        "\n",
        "# 3. Indentation error\n",
        "colors = ['red', 'blue', 'green']\n",
        "  print(colors)\n",
        "\n",
        "# 4. Missing closing bracket\n",
        "animals = ['lion', 'elephant', 'giraffe'\n",
        "print(animals)\n",
        "\n",
        "# 5. Incorrect list indexing style.\n",
        "letters = ['a', 'b', 'c', 'd']\n",
        "print(letters['3'])\n",
        "\n",
        "# 6. Missing parenthesis\n",
        "mixed_data = ['apple', 3, 'orange', 5]\n",
        "print(len(mixed_data)\n",
        "\n",
        "# 7. Undefined variable name\n",
        "vegetables = ['carrot', 'broccoli', 'spinach']\n",
        "print(salads)\n",
        "\n",
        "\n"
      ],
      "metadata": {
        "id": "GMu3oQsUg8L6"
      },
      "execution_count": null,
      "outputs": []
    },
    {
      "cell_type": "markdown",
      "source": [
        "##Syntatically Correct Code\n",
        "The code below is the correct version of the initially generated code:"
      ],
      "metadata": {
        "id": "RW5_yoRbVQRJ"
      }
    },
    {
      "cell_type": "code",
      "source": [
        "# Working with lists\n",
        "\n",
        "# 1. Missing colon after 'for'\n",
        "numbers = [1, 2, 3, 4, 5]\n",
        "for num in numbers:  # Added a colon after 'for'\n",
        "    print(num)\n",
        "\n",
        "# 2. Incorrect method name 'apend'\n",
        "fruits = ['apple', 'orange', 'banana']\n",
        "fruits.append('grape')  # Corrected method name to 'append'\n",
        "print(fruits)\n",
        "\n",
        "# 3. Indentation error\n",
        "colors = ['red', 'blue', 'green']\n",
        "print(colors)  # Removed extra indentation\n",
        "\n",
        "# 4. Missing closing bracket\n",
        "animals = ['lion', 'elephant', 'giraffe']  # Added a closing bracket\n",
        "print(animals)\n",
        "\n",
        "# 5. Incorrect list indexing style\n",
        "letters = ['a', 'b', 'c', 'd']\n",
        "print(letters[3])  # Removed quotes around the index\n",
        "\n",
        "# 6. Missing parenthesis\n",
        "mixed_data = ['apple', 3, 'orange', 5]\n",
        "print(len(mixed_data))  # Added a closing parenthesis\n",
        "\n",
        "# 7. Undefined variable name\n",
        "vegetables = ['carrot', 'broccoli', 'spinach']\n",
        "# Removed reference to undefined variable 'salads'\n",
        "print(vegetables)\n"
      ],
      "metadata": {
        "id": "fU8PeG2VVcVG"
      },
      "execution_count": null,
      "outputs": []
    },
    {
      "cell_type": "code",
      "source": [
        "print (\"come \" + 7)"
      ],
      "metadata": {
        "colab": {
          "base_uri": "https://localhost:8080/",
          "height": 141
        },
        "id": "23Ttc2p3K9uN",
        "outputId": "1762b4b1-263a-4a92-c4a3-b602a0e41c84"
      },
      "execution_count": null,
      "outputs": [
        {
          "output_type": "error",
          "ename": "TypeError",
          "evalue": "can only concatenate str (not \"int\") to str",
          "traceback": [
            "\u001b[0;31m---------------------------------------------------------------------------\u001b[0m",
            "\u001b[0;31mTypeError\u001b[0m                                 Traceback (most recent call last)",
            "\u001b[0;32m<ipython-input-3-770e1b992e51>\u001b[0m in \u001b[0;36m<cell line: 1>\u001b[0;34m()\u001b[0m\n\u001b[0;32m----> 1\u001b[0;31m \u001b[0mprint\u001b[0m \u001b[0;34m(\u001b[0m\u001b[0;34m\"come \"\u001b[0m \u001b[0;34m+\u001b[0m \u001b[0;36m7\u001b[0m\u001b[0;34m)\u001b[0m\u001b[0;34m\u001b[0m\u001b[0;34m\u001b[0m\u001b[0m\n\u001b[0m",
            "\u001b[0;31mTypeError\u001b[0m: can only concatenate str (not \"int\") to str"
          ]
        }
      ]
    },
    {
      "cell_type": "code",
      "source": [
        "dollar = 12\n",
        "pound = 13"
      ],
      "metadata": {
        "id": "IE7Cw1wHEE3_"
      },
      "execution_count": null,
      "outputs": []
    },
    {
      "cell_type": "code",
      "source": [
        "int()"
      ],
      "metadata": {
        "id": "3A-nwMtaEIfu"
      },
      "execution_count": null,
      "outputs": []
    }
  ]
}